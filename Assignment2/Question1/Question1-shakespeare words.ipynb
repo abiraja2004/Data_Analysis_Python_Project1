{
 "cells": [
  {
   "cell_type": "markdown",
   "metadata": {},
   "source": [
    "################################################################################################################################\n",
    "#           Assignment 2: Author-Vaishali Lambe, NUID-001286444                            #\n",
    "################################################################################################################################ \n",
    "**Question1:**\n",
    "* Learn and understand Zipf’s Law.\n",
    "* Pick any file (or files) in NLTK package.\n",
    "* Prove if Zipf’s Law works in Natural Language or not.\n",
    "* REQUIREMENTS: (Must Do) \n",
    "    * Use ’glob’ to open and read file. If read multiple files use LOOP to achieve. \n",
    "    * Create at least one function and one lambda function.\n",
    "    * Save your data as an CSV file contains (Word, Rank, Frequency) with TITLE and Sort it by RANK. \n",
    "    * Open your CSV file, generate a log-log figure according to the data you saved. \n",
    "    * Write a conclusion at the end of your code base on figure. \n",
    "    * (Optional) Use matplotlib to generate a log-log figure in your code. \n",
    "\n",
    "################################################################################################################################"
   ]
  },
  {
   "cell_type": "code",
   "execution_count": 1,
   "metadata": {
    "collapsed": false
   },
   "outputs": [
    {
     "name": "stdout",
     "output_type": "stream",
     "text": [
      "['austen-emma.txt', 'austen-persuasion.txt', 'austen-sense.txt', 'bible-kjv.txt', 'blake-poems.txt', 'bryant-stories.txt', 'burgess-busterbrown.txt', 'carroll-alice.txt', 'chesterton-ball.txt', 'chesterton-brown.txt', 'chesterton-thursday.txt', 'edgeworth-parents.txt', 'melville-moby_dick.txt', 'milton-paradise.txt', 'shakespeare-caesar.txt', 'shakespeare-hamlet.txt', 'shakespeare-macbeth.txt', 'whitman-leaves.txt']\n"
     ]
    }
   ],
   "source": [
    "# Import standard modules.\n",
    "from glob import glob\n",
    "import os\n",
    "import string\n",
    "\n",
    "# Import nltk\n",
    "import nltk\n",
    "\n",
    "# Import gutenberg from nltk.corpus\n",
    "from nltk.corpus import gutenberg\n",
    "\n",
    "print(gutenberg.fileids())"
   ]
  },
  {
   "cell_type": "code",
   "execution_count": 2,
   "metadata": {
    "collapsed": false
   },
   "outputs": [
    {
     "name": "stdout",
     "output_type": "stream",
     "text": [
      "nltk.data.path: ['C:\\\\Users\\\\Admin/nltk_data', 'C:\\\\nltk_data', 'D:\\\\nltk_data', 'E:\\\\nltk_data', 'C:\\\\Users\\\\Admin\\\\Anaconda3\\\\nltk_data', 'C:\\\\Users\\\\Admin\\\\Anaconda3\\\\lib\\\\nltk_data', 'C:\\\\Users\\\\Admin\\\\AppData\\\\Roaming\\\\nltk_data']\n",
      "C:\\Users\\Admin\\Documents\\DataAnalysisUsingPython\\Assignment 2\n",
      "shakespeare files: ['shakespeare-caesar.txt', 'shakespeare-hamlet.txt', 'shakespeare-macbeth.txt']\n",
      "\n",
      "First hundred words in shakespeare_words:\n",
      "['the', 'tragedie', 'of', 'julius', 'caesar', 'by', 'william', 'shakespeare', '1599', 'actus', 'primus', 'scoena', 'prima', 'enter', 'flauius', 'murellus', 'and', 'certaine', 'commoners', 'ouer', 'the', 'stage', 'flauius', 'hence', 'home', 'you', 'idle', 'creatures', 'get', 'you', 'home', 'is', 'this', 'a', 'holiday', 'what', 'know', 'you', 'not', 'being', 'mechanicall', 'you', 'ought', 'not', 'walke', 'vpon', 'a', 'labouring', 'day', 'without', 'the', 'signe', 'of', 'your', 'profession', 'speake', 'what', 'trade', 'art', 'thou', 'car', 'why', 'sir', 'a', 'carpenter', 'mur', 'where', 'is', 'thy', 'leather', 'apron', 'and', 'thy', 'rule', 'what', 'dost', 'thou', 'with', 'thy', 'best', 'apparrell', 'on', 'you', 'sir', 'what', 'trade', 'are', 'you', 'cobl', 'truely', 'sir', 'in', 'respect', 'of', 'a', 'fine', 'workman', 'i', 'am', 'but']\n"
     ]
    }
   ],
   "source": [
    "# Get just the Shakespeare files from the Gutenberg collection.\n",
    "print('nltk.data.path: ' + str(nltk.data.path))\n",
    "\n",
    "# Save the current working directory, because we're going to change it to find the Shakespeare files in NLTK.\n",
    "current_path = os.getcwd()\n",
    "print(current_path)\n",
    "\n",
    "# Find the Shakespeare files using glob.\n",
    "shakespeare_files = []\n",
    "for p in nltk.data.path:\n",
    "    if os.path.isdir(p):\n",
    "        os.chdir(os.path.join(p, 'corpora/gutenberg'))\n",
    "        shakespeare_files = glob('shakespeare*txt')\n",
    "        if len(shakespeare_files) > 0:\n",
    "            # Found them, so stop.  Don't want multiple copies.\n",
    "            break\n",
    "\n",
    "print('shakespeare files: ' + str(shakespeare_files))\n",
    "\n",
    "# Use a function to determine if a token is a valid word.\n",
    "def is_valid_word(w):\n",
    "    if w in string.punctuation:\n",
    "        # Don't consider punctuation to be a valid word.\n",
    "        return False\n",
    "    \n",
    "    return True\n",
    "\n",
    "all_shakespeare_words = nltk.corpus.gutenberg.words(shakespeare_files)\n",
    "shakespeare_words = list([w.lower() for w in all_shakespeare_words \n",
    "                          if is_valid_word(w.lower())])\n",
    "\n",
    "print('\\nFirst hundred words in shakespeare_words:')\n",
    "print(shakespeare_words[0:100])"
   ]
  },
  {
   "cell_type": "code",
   "execution_count": 3,
   "metadata": {
    "collapsed": false
   },
   "outputs": [
    {
     "name": "stdout",
     "output_type": "stream",
     "text": [
      "69499\n",
      "7549\n",
      "the 2222\n",
      "and 2036\n",
      "to 1515\n",
      "i 1455\n",
      "of 1302\n",
      "you 1124\n",
      "a 1019\n",
      "my 914\n",
      "that 904\n",
      "in 826\n",
      "it 778\n",
      "is 769\n",
      "not 722\n",
      "d 662\n",
      "his 588\n",
      "with 557\n",
      "this 546\n",
      "for 533\n",
      "me 529\n",
      "your 528\n"
     ]
    }
   ],
   "source": [
    "# import FreqDist class\n",
    "from nltk import FreqDist\n",
    "\n",
    "# Create frequency distribution object\n",
    "fd = FreqDist()\n",
    "\n",
    "# For each token in the relevant text, increment its counter\n",
    "for word in shakespeare_words:\n",
    "    fd[word] += 1\n",
    "\n",
    "# Total number of samples\n",
    "print (fd.N())\n",
    "\n",
    "# Number of unique words\n",
    "print (fd.B())\n",
    "\n",
    "# Look at the top 20 words sorted by frequency.  Use a lambda function.\n",
    "common_words = map(lambda p: str(p[0]) + ' ' + str(p[1]), fd.most_common(20))\n",
    "for cw in common_words:\n",
    "    print(cw)"
   ]
  },
  {
   "cell_type": "code",
   "execution_count": 4,
   "metadata": {
    "collapsed": false
   },
   "outputs": [
    {
     "name": "stdout",
     "output_type": "stream",
     "text": [
      "[{'Rank': 1, 'Frequency': 2222, 'Word': 'the'}, {'Rank': 2, 'Frequency': 2036, 'Word': 'and'}, {'Rank': 3, 'Frequency': 1515, 'Word': 'to'}, {'Rank': 4, 'Frequency': 1455, 'Word': 'i'}, {'Rank': 5, 'Frequency': 1302, 'Word': 'of'}]\n",
      "    Word  Rank  Frequency\n",
      "0    the     1       2222\n",
      "1    and     2       2036\n",
      "2     to     3       1515\n",
      "3      i     4       1455\n",
      "4     of     5       1302\n",
      "5    you     6       1124\n",
      "6      a     7       1019\n",
      "7     my     8        914\n",
      "8   that     9        904\n",
      "9     in    10        826\n",
      "10    it    11        778\n",
      "11    is    12        769\n",
      "12   not    13        722\n",
      "13     d    14        662\n",
      "14   his    15        588\n",
      "15  with    16        557\n",
      "16  this    17        546\n",
      "17   for    18        533\n",
      "18    me    19        529\n",
      "19  your    20        528\n"
     ]
    }
   ],
   "source": [
    "import pandas as pd\n",
    "\n",
    "# Generate a (rank, frequency) point for each counted token and\n",
    "# and append to the respective lists, Note that the iteration\n",
    "# over fd is automatically sorted.\n",
    "row_list = []\n",
    "rank = 0\n",
    "for x in fd.most_common():\n",
    "    word = x[0]\n",
    "    count = x[1]\n",
    "    rank += 1\n",
    "    row = {'Word':word, 'Rank':rank, 'Frequency':count}\n",
    "    row_list.append(row)\n",
    "    \n",
    "# Check the row list.    \n",
    "print(row_list[0:5])\n",
    "\n",
    "# Initialize a dataframe to hold our data.\n",
    "df = pd.DataFrame(row_list, columns=['Word', 'Rank','Frequency'])\n",
    "\n",
    "# Examine the dataframe.\n",
    "print(df.head(20))"
   ]
  },
  {
   "cell_type": "code",
   "execution_count": 5,
   "metadata": {
    "collapsed": false
   },
   "outputs": [],
   "source": [
    "# Write the CSV file.  Don't write the row numbers (index).\n",
    "df.to_csv(os.path.join(current_path, 'shakespeare-zipflaw.csv'), index=False, encoding='utf-8')\n",
    "df = None"
   ]
  },
  {
   "cell_type": "code",
   "execution_count": 6,
   "metadata": {
    "collapsed": false
   },
   "outputs": [
    {
     "name": "stdout",
     "output_type": "stream",
     "text": [
      "    Word  Rank  Frequency\n",
      "0    the     1       2222\n",
      "1    and     2       2036\n",
      "2     to     3       1515\n",
      "3      i     4       1455\n",
      "4     of     5       1302\n",
      "5    you     6       1124\n",
      "6      a     7       1019\n",
      "7     my     8        914\n",
      "8   that     9        904\n",
      "9     in    10        826\n",
      "10    it    11        778\n",
      "11    is    12        769\n",
      "12   not    13        722\n",
      "13     d    14        662\n",
      "14   his    15        588\n",
      "15  with    16        557\n",
      "16  this    17        546\n",
      "17   for    18        533\n",
      "18    me    19        529\n",
      "19  your    20        528\n"
     ]
    }
   ],
   "source": [
    "# Import data from csv\n",
    "csv_data = pd.read_csv(os.path.join(current_path, 'shakespeare-zipflaw.csv'), encoding='utf-8')\n",
    "\n",
    "# Examine the dataframe.\n",
    "print(csv_data.head(20))"
   ]
  },
  {
   "cell_type": "code",
   "execution_count": 7,
   "metadata": {
    "collapsed": false
   },
   "outputs": [],
   "source": [
    "#Import matplotlib\n",
    "import matplotlib\n",
    "\n",
    "# Import matplotlib.pyplot as plt\n",
    "import matplotlib.pyplot as plt\n",
    "\n",
    "%matplotlib inline "
   ]
  },
  {
   "cell_type": "code",
   "execution_count": 8,
   "metadata": {
    "collapsed": false
   },
   "outputs": [
    {
     "data": {
      "image/png": "[encoded data removed]",
      "text/plain": [
       "<matplotlib.figure.Figure at 0x47b9b645c0>"
      ]
     },
     "metadata": {},
     "output_type": "display_data"
    }
   ],
   "source": [
    "# Plot rank vs frequency on a log log plot and show the plot\n",
    "plt.loglog(csv_data['Rank'], csv_data['Frequency'])\n",
    "plt.xlabel('frequency(f)', fontsize=14, fontweight='bold')\n",
    "plt.ylabel('rank(r)', fontsize=14, fontweight='bold')\n",
    "plt.grid(True)\n",
    "plt.show()"
   ]
  },
  {
   "cell_type": "markdown",
   "metadata": {},
   "source": [
    "** Observations:**\n",
    "* The shakespeare words shows that there is little variation from linear regression.\n",
    "* The product of rank and Frequecy is not equal to constant for all words for their ranks and frequencies, so doesn't give 100% results to prove zipf's law\n",
    "* To find the best fit line lets take log 10 of rank and frequency and find most fit r2 value to get linear regression"
   ]
  },
  {
   "cell_type": "code",
   "execution_count": 9,
   "metadata": {
    "collapsed": false
   },
   "outputs": [
    {
     "name": "stdout",
     "output_type": "stream",
     "text": [
      "[-0.86678422  3.73179857]\n"
     ]
    }
   ],
   "source": [
    "# Compute the best fit line.\n",
    "import numpy as np\n",
    "\n",
    "logFrequency = np.log10(csv_data['Frequency'])\n",
    "logRank = np.log10(csv_data['Rank'])\n",
    "\n",
    "coefficients=np.polyfit(logFrequency, logRank, 1)\n",
    "print(coefficients)"
   ]
  },
  {
   "cell_type": "code",
   "execution_count": 10,
   "metadata": {
    "collapsed": false
   },
   "outputs": [
    {
     "name": "stdout",
     "output_type": "stream",
     "text": [
      "0.969638055634\n"
     ]
    }
   ],
   "source": [
    "# Compute the r^2 value for the linear regression.\n",
    "\n",
    "import scipy\n",
    "\n",
    "def rsquared(x, y):\n",
    "    \"\"\" Return R^2 where x and y are array-like.\"\"\"\n",
    "\n",
    "    slope, intercept, r_value, p_value, std_err = scipy.stats.linregress(x, y)\n",
    "    return r_value**2\n",
    "\n",
    "print(rsquared(logFrequency, logRank))"
   ]
  },
  {
   "cell_type": "markdown",
   "metadata": {
    "collapsed": true
   },
   "source": [
    "** Observations:**\n",
    "* r^2 value gives value approximately equivalent to 1 and shows linear regression\n",
    "* proves zipfs law to the best"
   ]
  },
  {
   "cell_type": "code",
   "execution_count": null,
   "metadata": {
    "collapsed": true
   },
   "outputs": [],
   "source": []
  }
 ],
 "metadata": {
  "anaconda-cloud": {},
  "kernelspec": {
   "display_name": "Python [default]",
   "language": "python",
   "name": "python3"
  },
  "language_info": {
   "codemirror_mode": {
    "name": "ipython",
    "version": 3
   },
   "file_extension": ".py",
   "mimetype": "text/x-python",
   "name": "python",
   "nbconvert_exporter": "python",
   "pygments_lexer": "ipython3",
   "version": "3.5.2"
  }
 },
 "nbformat": 4,
 "nbformat_minor": 1
}
