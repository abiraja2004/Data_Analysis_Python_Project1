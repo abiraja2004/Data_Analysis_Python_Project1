{
 "cells": [
  {
   "cell_type": "markdown",
   "metadata": {},
   "source": [
    "################################################################################################################################\n",
    "#           Assignment 2: Author-Vaishali Lambe, NUID-001286444                            #\n",
    "################################################################################################################################ \n",
    "**Question1:**\n",
    "* Learn and understand Zipf’s Law.\n",
    "* Pick any file (or files) in NLTK package.\n",
    "* Prove if Zipf’s Law works in Natural Language or not.\n",
    "* REQUIREMENTS: (Must Do) \n",
    "    * Use ’glob’ to open and read file. If read multiple files use LOOP to achieve. \n",
    "    * Create at least one function and one lambda function.\n",
    "    * Save your data as an CSV file contains (Word, Rank, Frequency) with TITLE and Sort it by RANK. \n",
    "    * Open your CSV file, generate a log-log figure according to the data you saved. \n",
    "    * Write a conclusion at the end of your code base on figure. \n",
    "    * (Optional) Use matplotlib to generate a log-log figure in your code. \n",
    "\n",
    "################################################################################################################################"
   ]
  },
  {
   "cell_type": "code",
   "execution_count": 1,
   "metadata": {
    "collapsed": false
   },
   "outputs": [
    {
     "name": "stdout",
     "output_type": "stream",
     "text": [
      "['austen-emma.txt', 'austen-persuasion.txt', 'austen-sense.txt', 'bible-kjv.txt', 'blake-poems.txt', 'bryant-stories.txt', 'burgess-busterbrown.txt', 'carroll-alice.txt', 'chesterton-ball.txt', 'chesterton-brown.txt', 'chesterton-thursday.txt', 'edgeworth-parents.txt', 'melville-moby_dick.txt', 'milton-paradise.txt', 'shakespeare-caesar.txt', 'shakespeare-hamlet.txt', 'shakespeare-macbeth.txt', 'whitman-leaves.txt']\n"
     ]
    }
   ],
   "source": [
    "# Import standard modules.\n",
    "from glob import glob\n",
    "import os\n",
    "import string\n",
    "\n",
    "# Import nltk\n",
    "import nltk\n",
    "\n",
    "# Import gutenberg from nltk.corpus\n",
    "from nltk.corpus import gutenberg\n",
    "\n",
    "print(gutenberg.fileids())"
   ]
  },
  {
   "cell_type": "code",
   "execution_count": 2,
   "metadata": {
    "collapsed": false
   },
   "outputs": [
    {
     "name": "stdout",
     "output_type": "stream",
     "text": [
      "nltk.data.path: ['C:\\\\Users\\\\Admin/nltk_data', 'C:\\\\nltk_data', 'D:\\\\nltk_data', 'E:\\\\nltk_data', 'C:\\\\Users\\\\Admin\\\\Anaconda3\\\\nltk_data', 'C:\\\\Users\\\\Admin\\\\Anaconda3\\\\lib\\\\nltk_data', 'C:\\\\Users\\\\Admin\\\\AppData\\\\Roaming\\\\nltk_data']\n",
      "C:\\Users\\Admin\\Documents\\DataAnalysisUsingPython\\Assignment 2\n",
      "austen files: ['austen-emma.txt', 'austen-persuasion.txt', 'austen-sense.txt']\n",
      "\n",
      "First hundred words in austen_words:\n",
      "['emma', 'by', 'jane', 'austen', '1816', 'volume', 'i', 'chapter', 'i', 'emma', 'woodhouse', 'handsome', 'clever', 'and', 'rich', 'with', 'a', 'comfortable', 'home', 'and', 'happy', 'disposition', 'seemed', 'to', 'unite', 'some', 'of', 'the', 'best', 'blessings', 'of', 'existence', 'and', 'had', 'lived', 'nearly', 'twenty', 'one', 'years', 'in', 'the', 'world', 'with', 'very', 'little', 'to', 'distress', 'or', 'vex', 'her', 'she', 'was', 'the', 'youngest', 'of', 'the', 'two', 'daughters', 'of', 'a', 'most', 'affectionate', 'indulgent', 'father', 'and', 'had', 'in', 'consequence', 'of', 'her', 'sister', 's', 'marriage', 'been', 'mistress', 'of', 'his', 'house', 'from', 'a', 'very', 'early', 'period', 'her', 'mother', 'had', 'died', 'too', 'long', 'ago', 'for', 'her', 'to', 'have', 'more', 'than', 'an', 'indistinct', 'remembrance', 'of']\n"
     ]
    }
   ],
   "source": [
    "# Get just the Austen files from the Gutenberg collection.\n",
    "print('nltk.data.path: ' + str(nltk.data.path))\n",
    "\n",
    "# Save the current working directory, because we're going to change it to find the Austen files in NLTK.\n",
    "current_path = os.getcwd()\n",
    "print(current_path)\n",
    "\n",
    "# Find the Austen files using glob.\n",
    "austen_files = []\n",
    "for p in nltk.data.path:\n",
    "    if os.path.isdir(p):\n",
    "        os.chdir(os.path.join(p, 'corpora/gutenberg'))\n",
    "        austen_files = glob('austen*txt')\n",
    "        if len(austen_files) > 0:\n",
    "            # Found them, so stop.  Don't want multiple copies.\n",
    "            break\n",
    "\n",
    "print('austen files: ' + str(austen_files))\n",
    "\n",
    "# Use a function to determine if a token is a valid word.\n",
    "def is_valid_word(w):\n",
    "    if w in string.punctuation:\n",
    "        # Don't consider punctuation to be a valid word.\n",
    "        return False\n",
    "    \n",
    "    return True\n",
    "\n",
    "all_austen_words = nltk.corpus.gutenberg.words(austen_files)\n",
    "austen_words = list([w.lower() for w in all_austen_words \n",
    "                          if is_valid_word(w.lower())])\n",
    "\n",
    "print('\\nFirst hundred words in austen_words:')\n",
    "print(austen_words[0:100])"
   ]
  },
  {
   "cell_type": "code",
   "execution_count": 3,
   "metadata": {
    "collapsed": false
   },
   "outputs": [
    {
     "name": "stdout",
     "output_type": "stream",
     "text": [
      "375461\n",
      "10631\n",
      "the 12635\n",
      "to 12163\n",
      "and 11188\n",
      "of 10433\n",
      "a 6816\n",
      "i 6306\n",
      "her 6224\n",
      "was 5596\n",
      "in 5556\n",
      "it 5323\n",
      "she 5099\n",
      "not 4322\n",
      "be 4230\n",
      "that 4073\n",
      "he 3875\n",
      "had 3808\n",
      "you 3799\n",
      "as 3466\n",
      "for 3316\n",
      "but 2991\n"
     ]
    }
   ],
   "source": [
    "# import FreqDist class\n",
    "from nltk import FreqDist\n",
    "\n",
    "# Create frequency distribution object\n",
    "fd = FreqDist()\n",
    "\n",
    "# For each token in the relevant text, increment its counter\n",
    "for word in austen_words:\n",
    "    fd[word] += 1\n",
    "\n",
    "# Total number of samples\n",
    "print (fd.N())\n",
    "\n",
    "# Number of unique words\n",
    "print (fd.B())\n",
    "\n",
    "# Look at the top 20 words sorted by frequency.  Use a lambda function.\n",
    "common_words = map(lambda p: str(p[0]) + ' ' + str(p[1]), fd.most_common(20))\n",
    "for cw in common_words:\n",
    "    print(cw)"
   ]
  },
  {
   "cell_type": "code",
   "execution_count": 4,
   "metadata": {
    "collapsed": false
   },
   "outputs": [
    {
     "name": "stdout",
     "output_type": "stream",
     "text": [
      "[{'Rank': 1, 'Word': 'the', 'Frequency': 12635}, {'Rank': 2, 'Word': 'to', 'Frequency': 12163}, {'Rank': 3, 'Word': 'and', 'Frequency': 11188}, {'Rank': 4, 'Word': 'of', 'Frequency': 10433}, {'Rank': 5, 'Word': 'a', 'Frequency': 6816}]\n",
      "    Word  Rank  Frequency\n",
      "0    the     1      12635\n",
      "1     to     2      12163\n",
      "2    and     3      11188\n",
      "3     of     4      10433\n",
      "4      a     5       6816\n",
      "5      i     6       6306\n",
      "6    her     7       6224\n",
      "7    was     8       5596\n",
      "8     in     9       5556\n",
      "9     it    10       5323\n",
      "10   she    11       5099\n",
      "11   not    12       4322\n",
      "12    be    13       4230\n",
      "13  that    14       4073\n",
      "14    he    15       3875\n",
      "15   had    16       3808\n",
      "16   you    17       3799\n",
      "17    as    18       3466\n",
      "18   for    19       3316\n",
      "19   but    20       2991\n"
     ]
    }
   ],
   "source": [
    "import pandas as pd\n",
    "\n",
    "# Generate a (rank, frequency) point for each counted token and\n",
    "# and append to the respective lists, Note that the iteration\n",
    "# over fd is automatically sorted.\n",
    "row_list = []\n",
    "rank = 0\n",
    "for x in fd.most_common():\n",
    "    word = x[0]\n",
    "    count = x[1]\n",
    "    rank += 1\n",
    "    row = {'Word':word, 'Rank':rank, 'Frequency':count}\n",
    "    row_list.append(row)\n",
    "    \n",
    "# Check the row list.    \n",
    "print(row_list[0:5])\n",
    "\n",
    "# Initialize a dataframe to hold our data.\n",
    "df = pd.DataFrame(row_list, columns=['Word', 'Rank','Frequency'])\n",
    "\n",
    "# Examine the dataframe.\n",
    "print(df.head(20))"
   ]
  },
  {
   "cell_type": "code",
   "execution_count": 5,
   "metadata": {
    "collapsed": false
   },
   "outputs": [],
   "source": [
    "# Write the CSV file.  Don't write the row numbers (index).\n",
    "df.to_csv(os.path.join(current_path, 'austen-zipflaw.csv'), index=False, encoding='utf-8')\n",
    "df = None"
   ]
  },
  {
   "cell_type": "code",
   "execution_count": 6,
   "metadata": {
    "collapsed": false
   },
   "outputs": [
    {
     "name": "stdout",
     "output_type": "stream",
     "text": [
      "    Word  Rank  Frequency\n",
      "0    the     1      12635\n",
      "1     to     2      12163\n",
      "2    and     3      11188\n",
      "3     of     4      10433\n",
      "4      a     5       6816\n",
      "5      i     6       6306\n",
      "6    her     7       6224\n",
      "7    was     8       5596\n",
      "8     in     9       5556\n",
      "9     it    10       5323\n",
      "10   she    11       5099\n",
      "11   not    12       4322\n",
      "12    be    13       4230\n",
      "13  that    14       4073\n",
      "14    he    15       3875\n",
      "15   had    16       3808\n",
      "16   you    17       3799\n",
      "17    as    18       3466\n",
      "18   for    19       3316\n",
      "19   but    20       2991\n"
     ]
    }
   ],
   "source": [
    "# Import data from csv\n",
    "csv_data = pd.read_csv(os.path.join(current_path, 'austen-zipflaw.csv'), encoding='utf-8')\n",
    "\n",
    "# Examine the dataframe.\n",
    "print(csv_data.head(20))"
   ]
  },
  {
   "cell_type": "code",
   "execution_count": 7,
   "metadata": {
    "collapsed": false
   },
   "outputs": [],
   "source": [
    "#Import matplotlib\n",
    "import matplotlib\n",
    "\n",
    "# Import matplotlib.pyplot as plt\n",
    "import matplotlib.pyplot as plt\n",
    "\n",
    "%matplotlib inline "
   ]
  },
  {
   "cell_type": "code",
   "execution_count": 8,
   "metadata": {
    "collapsed": false
   },
   "outputs": [
    {
     "data": {
      "image/png": "[encoded data removed]",
      "text/plain": [
       "<matplotlib.figure.Figure at 0x95da536828>"
      ]
     },
     "metadata": {},
     "output_type": "display_data"
    }
   ],
   "source": [
    "# Plot rank vs frequency on a log log plot and show the plot\n",
    "plt.loglog(csv_data['Rank'], csv_data['Frequency'])\n",
    "plt.xlabel('frequency(f)', fontsize=14, fontweight='bold')\n",
    "plt.ylabel('rank(r)', fontsize=14, fontweight='bold')\n",
    "plt.grid(True)\n",
    "plt.show()"
   ]
  },
  {
   "cell_type": "markdown",
   "metadata": {},
   "source": [
    "**Observations:**\n",
    "* Here to same observations as we did for shakespeare words so let's take the r^2 value to find best fit line and linear regression "
   ]
  },
  {
   "cell_type": "code",
   "execution_count": 9,
   "metadata": {
    "collapsed": false
   },
   "outputs": [
    {
     "name": "stdout",
     "output_type": "stream",
     "text": [
      "[-0.64359854  3.97612596]\n"
     ]
    }
   ],
   "source": [
    "# Compute the best fit line.\n",
    "import numpy as np\n",
    "\n",
    "logFrequency = np.log10(csv_data['Frequency'])\n",
    "logRank = np.log10(csv_data['Rank'])\n",
    "\n",
    "coefficients=np.polyfit(logFrequency, logRank, 1)\n",
    "print(coefficients)"
   ]
  },
  {
   "cell_type": "code",
   "execution_count": 10,
   "metadata": {
    "collapsed": false
   },
   "outputs": [
    {
     "name": "stdout",
     "output_type": "stream",
     "text": [
      "0.974173681853\n"
     ]
    }
   ],
   "source": [
    "# Compute the r^2 value for the linear regression.\n",
    "import scipy\n",
    "\n",
    "def rsquared(x, y):\n",
    "    \"\"\" Return R^2 where x and y are array-like.\"\"\"\n",
    "\n",
    "    slope, intercept, r_value, p_value, std_err = scipy.stats.linregress(x, y)\n",
    "    return r_value**2\n",
    "\n",
    "print(rsquared(logFrequency, logRank))"
   ]
  },
  {
   "cell_type": "code",
   "execution_count": null,
   "metadata": {
    "collapsed": true
   },
   "outputs": [],
   "source": []
  }
 ],
 "metadata": {
  "anaconda-cloud": {},
  "kernelspec": {
   "display_name": "Python [default]",
   "language": "python",
   "name": "python3"
  },
  "language_info": {
   "codemirror_mode": {
    "name": "ipython",
    "version": 3
   },
   "file_extension": ".py",
   "mimetype": "text/x-python",
   "name": "python",
   "nbconvert_exporter": "python",
   "pygments_lexer": "ipython3",
   "version": "3.5.2"
  }
 },
 "nbformat": 4,
 "nbformat_minor": 1
}
