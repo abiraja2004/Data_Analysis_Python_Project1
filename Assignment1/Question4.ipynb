{
 "cells": [
  {
   "cell_type": "markdown",
   "metadata": {},
   "source": [
    "################################################################################################################################\n",
    "#                Assignment1: Author-Vaishali Lambe, NUID-001286444                       #\n",
    "################################################################################################################################\n",
    "**Question 4:**\n",
    "\n",
    "* Under package nps_chat, see what files are in it.\n",
    "* Find 'user121' and see how many posts he posted in all.\n",
    "* Find out how many unique user in each age range group. (20s, 30s,...)(Hint: files' name)\n",
    "\n",
    "################################################################################################################################"
   ]
  },
  {
   "cell_type": "code",
   "execution_count": 1,
   "metadata": {
    "collapsed": false
   },
   "outputs": [
    {
     "data": {
      "text/plain": [
       "['10-19-20s_706posts.xml',\n",
       " '10-19-30s_705posts.xml',\n",
       " '10-19-40s_686posts.xml',\n",
       " '10-19-adults_706posts.xml',\n",
       " '10-24-40s_706posts.xml',\n",
       " '10-26-teens_706posts.xml',\n",
       " '11-06-adults_706posts.xml',\n",
       " '11-08-20s_705posts.xml',\n",
       " '11-08-40s_706posts.xml',\n",
       " '11-08-adults_705posts.xml',\n",
       " '11-08-teens_706posts.xml',\n",
       " '11-09-20s_706posts.xml',\n",
       " '11-09-40s_706posts.xml',\n",
       " '11-09-adults_706posts.xml',\n",
       " '11-09-teens_706posts.xml']"
      ]
     },
     "execution_count": 1,
     "metadata": {},
     "output_type": "execute_result"
    }
   ],
   "source": [
    "# Import nltk\n",
    "import nltk\n",
    "\n",
    "# From nltk.corpus import nps_chat\n",
    "from nltk.corpus import nps_chat\n",
    "\n",
    "# Display files in nps_chat\n",
    "nps_chat.fileids()"
   ]
  },
  {
   "cell_type": "code",
   "execution_count": 2,
   "metadata": {
    "collapsed": false
   },
   "outputs": [
    {
     "name": "stdout",
     "output_type": "stream",
     "text": [
      "[['now', 'im', 'left', 'with', 'this', 'gay', 'name'], [':P'], ...]\n"
     ]
    }
   ],
   "source": [
    "# Read in everything\n",
    "chatroom = nps_chat.posts(nps_chat.fileids())\n",
    "\n",
    "# Display/explore what chatroom contains\n",
    "print(chatroom)"
   ]
  },
  {
   "cell_type": "code",
   "execution_count": 3,
   "metadata": {
    "collapsed": false
   },
   "outputs": [
    {
     "name": "stdout",
     "output_type": "stream",
     "text": [
      "<!-- edited with XMLSpy v2007 sp1 (http://www.altova.com) by Eric Forsyth (Naval Postgraduate School) -->\n",
      "<Session xmlns:xsi=\"http://www.w3.org/2001/XMLSchema-instance\" xsi:noNamespaceSchemaLocation=\"postClassPOSTagset.xsd\">\n",
      "\t<Posts>\n",
      "\t\t<Post class=\"Statement\" user=\"10-19-20sUser7\">now im left with this gay name<terminals>\n",
      "\t\t\t\t<t pos=\"RB\" word=\"now\"/>\n",
      "\t\t\t\t<t pos=\"PRP\" word=\"im\"/>\n",
      "\t\t\t\t<t pos=\"VBD\" word=\"left\"/>\n",
      "\t\t\t\t<t pos=\"IN\" word=\"with\"/>\n",
      "\t\t\t\t<t pos=\"DT\" word=\"this\"/>\n",
      "\t\t\t\t<t pos=\"JJ\" word=\"gay\"/>\n",
      "\t\t\t\t<t pos=\"NN\" word=\"name\"/>\n",
      "\t\t\t</terminals>\n",
      "\t\t</Post>\n",
      "\t\t<Post class=\"Emotion\" user=\"10-19-20sUser7\">:P<terminals>\n",
      "\t\t\t\t<t pos=\"UH\" word=\":P\"/>\n",
      "\t\t\t</terminals>\n",
      "\t\t</Post>\n",
      "\t\t<Post class=\"System\" user=\"10-19-20sUser76\">PART<terminals>\n",
      "\t\t\t\t<t pos=\"VB\" word=\"PART\"/>\n",
      "\t\t\t</terminals>\n",
      "\t\t</Post>\n",
      "\t\t<Post class=\"Greet\" user=\"10-19-20sUser59\">hey everyone  <terminals>\n",
      "\t\t\t\t<t pos=\"UH\" word=\"hey\"/>\n",
      "\t\t\t\t<t pos=\"NN\" word=\"everyone\"/>\n",
      "\t\t\t</terminals>\n",
      "\t\t</Post>\n",
      "\t\t<Post class=\"Statement\" user=\"10-19-20sUser115\">\n"
     ]
    }
   ],
   "source": [
    "# See raw data for nps_chat \n",
    "print(nps_chat.raw('10-19-20s_706posts.xml')[0:1000])"
   ]
  },
  {
   "cell_type": "code",
   "execution_count": 4,
   "metadata": {
    "collapsed": false
   },
   "outputs": [
    {
     "name": "stdout",
     "output_type": "stream",
     "text": [
      "[<Element 'Post' at 0x0000002CDA967138>, <Element 'Post' at 0x0000002CDA981278>, ...]\n"
     ]
    }
   ],
   "source": [
    "# It looks like a html file\n",
    "# See what does the xml_posts() method do?\n",
    "xml_chatroom = nps_chat.xml_posts(nps_chat.fileids())\n",
    "print(xml_chatroom)"
   ]
  },
  {
   "cell_type": "code",
   "execution_count": 5,
   "metadata": {
    "collapsed": false
   },
   "outputs": [
    {
     "name": "stdout",
     "output_type": "stream",
     "text": [
      "\n",
      "Total users are:  10567\n",
      "========================================================================================================================\n",
      "Unique users are:  1377\n"
     ]
    }
   ],
   "source": [
    "# Get list f users\n",
    "all_user_list = [p.get('user') for p in xml_chatroom]\n",
    "print(\"\\nTotal users are: \", len(all_user_list))\n",
    "print(\"========================================================================================================================\")\n",
    "# Get unique list of users\n",
    "unique_user_list = list(set(all_user_list))\n",
    "print(\"Unique users are: \",len(unique_user_list))"
   ]
  },
  {
   "cell_type": "markdown",
   "metadata": {},
   "source": [
    "**Answer**"
   ]
  },
  {
   "cell_type": "code",
   "execution_count": 6,
   "metadata": {
    "collapsed": false
   },
   "outputs": [
    {
     "name": "stdout",
     "output_type": "stream",
     "text": [
      "Total number of posts of an User121 are: 132\n"
     ]
    }
   ],
   "source": [
    "# Let's find how many posts user121 made\n",
    "user121_posts = [p for p in xml_chatroom if p.get('user').endswith('User121')]\n",
    "print(\"Total number of posts of an User121 are:\", len(user121_posts))"
   ]
  },
  {
   "cell_type": "code",
   "execution_count": 7,
   "metadata": {
    "collapsed": false
   },
   "outputs": [
    {
     "name": "stdout",
     "output_type": "stream",
     "text": [
      "['10-19-20sUser7 is a gay name.', \"don't golf clap me.\", \"i'll thunder clap your ass.\", 'and i dont even know what that means.', 'boo.', 'boo.', 'boo.', 'sounds good to me.', \"I'll take one, please.\", \"don't you have a sharpie?\", 'my chair is too hard.', \"and i don't complain about things being hard very often.\", 'yo, 10-19-20sUser133', 'are you a male?', \"let's talk.\", \"boo, it's a female.\", \"i don't want hot pics of a female, I can look in a mirror.\", 'hi 10-19-20sUser139.', \"you're fucking hot.\", 'I like it when you do it, 10-19-20sUser83', '10-19-20sUser136.. get the hell in my freaking PM box.. I have no fiance!!!!!!!', 'off off?', 'really?', \"wow. twice, I'm impressed.\", 'finger?', \"that's such a DIRTY word.\", '10-19-20sUser6,', 'you can forward the pervs to me.', 'i already wrote what i wanted you to read.', 'so read it.', \"I'll take all that I can get.\", 'what, 10-19-20sUser92.', 'you guys type too much. shut the fuck up.', '10-19-20sUser7', 'i hate you.', 'I am ugly?', 'aww.', 'i feel bad now.', 'i hate you 10-19-20sUser68. does that mean I want you?', 'lets', 'someone wanna find me a cheap flight to spain?', 'i need to go this summer.', \"it's an emergency.\", 'it was me, 10-19-20sUser83', 'Aw, man.', 'i was only kidding.', \"he's a douchebag.\", 'love me.', 'pick me', 'choose me.', '(that was my meredith impression)', \"does anyone want to talk to me on the phone?  I don't charge\", 'pm me for my phone number.', \"dang it. just as i predicted.  no one pm's me.\", \"no it's not 10-19-20sUser12, you shut yo mouth.\", 'guys are idiots.', \"in case you girls didn't know.\", 'for all the early20s.', \"okay, I'm off for a bit.\", 'to calm myself down.', 'a bit.', '10-19-20sUser84.', 'i want cho-co-la-te.', 'near near?', 'PART', 'JOIN', 'umm, 10-19-20sUser83)', \"you're not supposed to be here you're over your 20s.\", 'funny.', '.ACTION has left the room with 10-19-20sUser83.', 'JOIN', 'JOIN', 'PART', 'PART', 'JOIN', 'JOIN', 'hello', '11-08-20sUser20', 'how are ya sweetie', 'hi 11-08-20sUser21', 'that is ok', 'some call me 11-08-20sUser121', 'ok fine fine', 'lol', 'tdr', '!td', 'too many names cant think lol', '!seen 11-08-20sUser196', '.ACTION sits in her corner reading her book.', '!spin', 'no ty', '!20', 'no', '!seen 11-08-20sUser219', 'i agree wtf is they talking about', 'some one kick him out', 'yes you', 'yes', 'hell', 'hello', 'then buy one', '!buy 11-08-20sUser54 a pussy', 'PART', 'JOIN', 'PART', 'JOIN', '16 f hong kong, anyone wanna chat, pm me ;-) ', 'PART', 'JOIN', 'any girls wana chat with 27-m-canada pm me', 'any ladies wana chat with a canadaian', 'were are all the ladies at', '27-m-canada with cam girls pm me', 'any girls out there wana chat pm me', 'JOIN', '18/m pm me if u tryin to chat', '18/m pm me if u tryin to chat', '18/m pm me if u tryin to chat', '18/m pm me if u tryin to chat', '18/m pm me if u tryin to chat', '18/m pm me if u tryin to chat', '18/m pm me if u tryin to chat', '18/m pm me if u tryin to chat', '18/m pm me if u tryin to chat', '18/m pm me if u tryin to chat', '18/m pm me if u tryin to chat', '18/m pm me if u tryin to chat', '18/m pm me if u tryin to chat', 'yea guitar rocker ur kool u lil guitar rocker', '18/m pm me if u tryin to chat', '18/m pm me if u tryin to chat', '18/m pm me if u tryin to chat']\n"
     ]
    }
   ],
   "source": [
    "# And look at them\n",
    "print([p.text for p in user121_posts])\n",
    "\n",
    "# Interesting, 'he' appears to be a girl"
   ]
  },
  {
   "cell_type": "markdown",
   "metadata": {},
   "source": [
    "** Second way to find unique users using function as below:**"
   ]
  },
  {
   "cell_type": "code",
   "execution_count": 8,
   "metadata": {
    "collapsed": false
   },
   "outputs": [
    {
     "name": "stdout",
     "output_type": "stream",
     "text": [
      "\n",
      "Unique users are:  1377\n"
     ]
    }
   ],
   "source": [
    "# Will be easiest to create a function for getting unique users\n",
    "def find_unique_users(file_list):\n",
    "    xml_posts = nps_chat.xml_posts(file_list)\n",
    "    # Get list of users.\n",
    "    unique_user_list = set([p.get('user') for p in xml_posts])\n",
    "    return unique_user_list\n",
    "\n",
    "# Check against the result we got earlier\n",
    "print(\"\\nUnique users are: \", len(find_unique_users(nps_chat.fileids())))"
   ]
  },
  {
   "cell_type": "code",
   "execution_count": 9,
   "metadata": {
    "collapsed": true
   },
   "outputs": [],
   "source": [
    "# Create a function for extracting subsets of the files based on age\n",
    "def find_files_for_age(age):\n",
    "    return set([f for f in nps_chat.fileids() if \"-\" + age in f])"
   ]
  },
  {
   "cell_type": "code",
   "execution_count": 10,
   "metadata": {
    "collapsed": false
   },
   "outputs": [
    {
     "name": "stdout",
     "output_type": "stream",
     "text": [
      "{'11-08-20s_705posts.xml', '10-19-20s_706posts.xml', '11-09-20s_706posts.xml'}\n",
      "{'10-19-30s_705posts.xml'}\n",
      "{'11-09-40s_706posts.xml', '10-24-40s_706posts.xml', '11-08-40s_706posts.xml', '10-19-40s_686posts.xml'}\n",
      "{'10-19-adults_706posts.xml', '11-06-adults_706posts.xml', '11-09-adults_706posts.xml', '11-08-adults_705posts.xml'}\n",
      "{'11-09-teens_706posts.xml', '10-26-teens_706posts.xml', '11-08-teens_706posts.xml'}\n"
     ]
    }
   ],
   "source": [
    "# Now answer the question.\n",
    "age_20s_files = find_files_for_age(\"20s\")\n",
    "age_30s_files = find_files_for_age(\"30s\")\n",
    "age_40s_files = find_files_for_age(\"40s\")\n",
    "age_adult_files = find_files_for_age(\"adults\")\n",
    "age_teen_files = find_files_for_age(\"teens\")\n",
    "\n",
    "# Display list of files for each age group\n",
    "print(age_20s_files)\n",
    "print(age_30s_files)\n",
    "print(age_40s_files)\n",
    "print(age_adult_files)\n",
    "print(age_teen_files)"
   ]
  },
  {
   "cell_type": "code",
   "execution_count": 11,
   "metadata": {
    "collapsed": false
   },
   "outputs": [
    {
     "name": "stdout",
     "output_type": "stream",
     "text": [
      "[{'Files': 3, 'Unique Users': 305, 'Age': '20s'}, {'Files': 1, 'Unique Users': 44, 'Age': '30s'}, {'Files': 4, 'Unique Users': 228, 'Age': '40s'}, {'Files': 4, 'Unique Users': 357, 'Age': 'adults'}, {'Files': 3, 'Unique Users': 443, 'Age': 'teens'}]\n"
     ]
    }
   ],
   "source": [
    "# Create a list of objects, each storing the number of files and unique users for an age group\n",
    "result_list = []\n",
    "ages = [\"20s\", \"30s\", \"40s\", \"adults\", \"teens\"]\n",
    "for age in ages:\n",
    "    filelist = find_files_for_age(age)\n",
    "    unique_users = find_unique_users(filelist)\n",
    "    result_list.append({ \"Age\":age, \"Files\": len(filelist), \"Unique Users\":len(unique_users)})\n",
    "\n",
    "# Display the list with the number of files and unique users for an age group\n",
    "print(result_list)"
   ]
  },
  {
   "cell_type": "markdown",
   "metadata": {},
   "source": [
    "**Answer**"
   ]
  },
  {
   "cell_type": "code",
   "execution_count": 12,
   "metadata": {
    "collapsed": false
   },
   "outputs": [
    {
     "name": "stdout",
     "output_type": "stream",
     "text": [
      "[{'Files': 3, 'Unique Users': 443, 'Age': 'teens'}, {'Files': 4, 'Unique Users': 357, 'Age': 'adults'}, {'Files': 3, 'Unique Users': 305, 'Age': '20s'}, {'Files': 4, 'Unique Users': 228, 'Age': '40s'}, {'Files': 1, 'Unique Users': 44, 'Age': '30s'}]\n",
      "\n",
      "Sorted list of unique users by age\n",
      "=====================================================\n",
      "teens :  443\n",
      "adults :  357\n",
      "20s :  305\n",
      "40s :  228\n",
      "30s :  44\n"
     ]
    }
   ],
   "source": [
    "# Sort the results in descending order by number of unique users\n",
    "sorted_list = sorted(result_list, key=lambda item : item[\"Unique Users\"], reverse=True)\n",
    "print(sorted_list)\n",
    "\n",
    "# Display the sorted list\n",
    "print(\"\\nSorted list of unique users by age\")\n",
    "print(\"=====================================================\")\n",
    "for item in sorted_list:\n",
    "    print(item[\"Age\"], \": \", str(item[\"Unique Users\"]))"
   ]
  },
  {
   "cell_type": "markdown",
   "metadata": {},
   "source": [
    "** Easy way to do it using Pandas**"
   ]
  },
  {
   "cell_type": "code",
   "execution_count": 13,
   "metadata": {
    "collapsed": false
   },
   "outputs": [
    {
     "name": "stdout",
     "output_type": "stream",
     "text": [
      "      Age  Files  Unique Users\n",
      "4   teens      3           443\n",
      "3  adults      4           357\n",
      "0     20s      3           305\n",
      "2     40s      4           228\n",
      "1     30s      1            44\n"
     ]
    }
   ],
   "source": [
    "# Import pandas as pd\n",
    "import pandas as pd\n",
    "\n",
    "result = pd.DataFrame(result_list, columns=[\"Age\", \"Files\", \"Unique Users\"])\n",
    "#print(result)\n",
    "\n",
    "# Order them by number of unique users\n",
    "sorted_result = result.sort_values(by=\"Unique Users\", ascending=False)\n",
    "print(sorted_result)"
   ]
  },
  {
   "cell_type": "code",
   "execution_count": null,
   "metadata": {
    "collapsed": true
   },
   "outputs": [],
   "source": []
  }
 ],
 "metadata": {
  "anaconda-cloud": {},
  "kernelspec": {
   "display_name": "Python [conda root]",
   "language": "python",
   "name": "conda-root-py"
  },
  "language_info": {
   "codemirror_mode": {
    "name": "ipython",
    "version": 3
   },
   "file_extension": ".py",
   "mimetype": "text/x-python",
   "name": "python",
   "nbconvert_exporter": "python",
   "pygments_lexer": "ipython3",
   "version": "3.5.2"
  }
 },
 "nbformat": 4,
 "nbformat_minor": 1
}
