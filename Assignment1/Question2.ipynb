{
 "cells": [
  {
   "cell_type": "markdown",
   "metadata": {},
   "source": [
    "################################################################################################################################\n",
    "#                  Assignment1: Author-Vaishali Lambe, NUID-001286444                     #                                    \n",
    "################################################################################################################################\n",
    "** Question 2:**\n",
    "\n",
    "* Under package Gutenberg get content from file 'melville-moby_dick.txt.' (HINT: Words? Raw?)\n",
    "* Find out frequency of 26 characters. (Turn uppercase into lowercase and count as one character)\n",
    "* List all 26 characters in order base on their frequency. (From most frequent to least frequent)\n",
    "* Try NOT to use FreqDist module.\n",
    "\n",
    "################################################################################################################################"
   ]
  },
  {
   "cell_type": "code",
   "execution_count": 1,
   "metadata": {
    "collapsed": false
   },
   "outputs": [],
   "source": [
    "# Import nltk\n",
    "import nltk\n",
    "\n",
    "# From nltk.corpus import gutenberg\n",
    "from nltk.corpus import gutenberg\n",
    "\n",
    "raw_txt = nltk.corpus.gutenberg.raw('melville-moby_dick.txt')\n",
    "\n",
    "# Create a list of all letters in the text (converted to lowercase)\n",
    "all_letters = list(c.lower() for c in raw_txt if c.isalpha())"
   ]
  },
  {
   "cell_type": "code",
   "execution_count": 2,
   "metadata": {
    "collapsed": false
   },
   "outputs": [
    {
     "name": "stdout",
     "output_type": "stream",
     "text": [
      "\n",
      "Dictionary with letters and their corresponding count is:\n",
      "========================================================================================================================\n",
      "{'o': 69326, 'i': 65434, 'u': 26697, 'g': 20820, 'l': 42793, 'w': 22222, 'd': 38219, 'y': 16872, 'a': 77916, 'e': 117092, 'q': 1556, 'r': 52134, 'z': 632, 'n': 65617, 'm': 23277, 'p': 17255, 'k': 8059, 'x': 1030, 't': 87996, 'v': 8598, 's': 64231, 'b': 16877, 'h': 62896, 'j': 1082, 'f': 20833, 'c': 22507}\n"
     ]
    }
   ],
   "source": [
    "# Create a dictionary to hold letter counts\n",
    "letter_count_dict = {}\n",
    "for c in all_letters:\n",
    "    if c in letter_count_dict:\n",
    "        letter_count_dict[c] = letter_count_dict[c] + 1\n",
    "    else:\n",
    "        letter_count_dict[c] = 1\n",
    "# Display letters with their corresponding count\n",
    "print(\"\\nDictionary with letters and their corresponding count is:\")\n",
    "print(\"========================================================================================================================\")\n",
    "print(letter_count_dict)"
   ]
  },
  {
   "cell_type": "markdown",
   "metadata": {},
   "source": [
    "################################################################################################################################\n",
    "#                                            First way of doing it                                                       #\n",
    "################################################################################################################################"
   ]
  },
  {
   "cell_type": "code",
   "execution_count": 3,
   "metadata": {
    "collapsed": false
   },
   "outputs": [
    {
     "name": "stdout",
     "output_type": "stream",
     "text": [
      "[{'count': 69326, 'letter': 'o'}, {'count': 65434, 'letter': 'i'}, {'count': 26697, 'letter': 'u'}, {'count': 20820, 'letter': 'g'}, {'count': 42793, 'letter': 'l'}, {'count': 22222, 'letter': 'w'}, {'count': 38219, 'letter': 'd'}, {'count': 16872, 'letter': 'y'}, {'count': 77916, 'letter': 'a'}, {'count': 117092, 'letter': 'e'}, {'count': 1556, 'letter': 'q'}, {'count': 52134, 'letter': 'r'}, {'count': 632, 'letter': 'z'}, {'count': 65617, 'letter': 'n'}, {'count': 23277, 'letter': 'm'}, {'count': 17255, 'letter': 'p'}, {'count': 8059, 'letter': 'k'}, {'count': 1030, 'letter': 'x'}, {'count': 87996, 'letter': 't'}, {'count': 8598, 'letter': 'v'}, {'count': 64231, 'letter': 's'}, {'count': 16877, 'letter': 'b'}, {'count': 62896, 'letter': 'h'}, {'count': 1082, 'letter': 'j'}, {'count': 20833, 'letter': 'f'}, {'count': 22507, 'letter': 'c'}]\n"
     ]
    }
   ],
   "source": [
    "#  Convert dict to a list for sorting.\n",
    "letter_count_list = []\n",
    "for l in letter_count_dict:\n",
    "    letter_count_list.append({\"letter\":l, \"count\":letter_count_dict[l]})\n",
    "\n",
    "# Display letter count list\n",
    "print(letter_count_list)"
   ]
  },
  {
   "cell_type": "markdown",
   "metadata": {},
   "source": [
    "**Answer**"
   ]
  },
  {
   "cell_type": "code",
   "execution_count": 4,
   "metadata": {
    "collapsed": false
   },
   "outputs": [
    {
     "name": "stdout",
     "output_type": "stream",
     "text": [
      "All Letters and their frequency in descending order is:\n",
      "======================================================================\n",
      "Letter \t\t\t\t Frequency\n",
      "======================================================================\n",
      "e \t\t\t\t 117092\n",
      "t \t\t\t\t 87996\n",
      "a \t\t\t\t 77916\n",
      "o \t\t\t\t 69326\n",
      "n \t\t\t\t 65617\n",
      "i \t\t\t\t 65434\n",
      "s \t\t\t\t 64231\n",
      "h \t\t\t\t 62896\n",
      "r \t\t\t\t 52134\n",
      "l \t\t\t\t 42793\n",
      "d \t\t\t\t 38219\n",
      "u \t\t\t\t 26697\n",
      "m \t\t\t\t 23277\n",
      "c \t\t\t\t 22507\n",
      "w \t\t\t\t 22222\n",
      "f \t\t\t\t 20833\n",
      "g \t\t\t\t 20820\n",
      "p \t\t\t\t 17255\n",
      "b \t\t\t\t 16877\n",
      "y \t\t\t\t 16872\n",
      "v \t\t\t\t 8598\n",
      "k \t\t\t\t 8059\n",
      "q \t\t\t\t 1556\n",
      "j \t\t\t\t 1082\n",
      "x \t\t\t\t 1030\n",
      "z \t\t\t\t 632\n"
     ]
    }
   ],
   "source": [
    "# Sort the list.\n",
    "sorted_letter_count = sorted(letter_count_list, key=lambda item : item[\"count\"], reverse=True)\n",
    "\n",
    "# Prettier printing.\n",
    "print(\"All Letters and their frequency in descending order is:\")\n",
    "\n",
    "print(\"======================================================================\")\n",
    "print(\"Letter\",4*\"\\t\",\"Frequency\")\n",
    "print(\"======================================================================\")\n",
    "for item in sorted_letter_count:\n",
    "    print(item[\"letter\"],4*\"\\t\", str(item[\"count\"]))"
   ]
  },
  {
   "cell_type": "markdown",
   "metadata": {},
   "source": [
    "################################################################################################################################\n",
    "#                                            Second way of doing it                                                 #\n",
    "################################################################################################################################"
   ]
  },
  {
   "cell_type": "markdown",
   "metadata": {},
   "source": [
    "**Answer**"
   ]
  },
  {
   "cell_type": "code",
   "execution_count": 5,
   "metadata": {
    "collapsed": false
   },
   "outputs": [
    {
     "name": "stdout",
     "output_type": "stream",
     "text": [
      "\n",
      "All letters and their frequency in descending order is: \n",
      "========================================================================================================================\n",
      "OrderedDict([('e', 117092), ('t', 87996), ('a', 77916), ('o', 69326), ('n', 65617), ('i', 65434), ('s', 64231), ('h', 62896), ('r', 52134), ('l', 42793), ('d', 38219), ('u', 26697), ('m', 23277), ('c', 22507), ('w', 22222), ('f', 20833), ('g', 20820), ('p', 17255), ('b', 16877), ('y', 16872), ('v', 8598), ('k', 8059), ('q', 1556), ('j', 1082), ('x', 1030), ('z', 632)])\n"
     ]
    }
   ],
   "source": [
    "# Import OrderedDict from collections\n",
    "from collections import OrderedDict\n",
    "# Import iterpools\n",
    "import itertools\n",
    "\n",
    "# Dictionary sorted by value\n",
    "sort_letters=OrderedDict(sorted(letter_count_dict.items(), key=lambda t: t[1], reverse=True))\n",
    "\n",
    "# Display all characters in descending order of their frequency\n",
    "print(\"\\nAll letters and their frequency in descending order is: \")\n",
    "print(\"========================================================================================================================\")\n",
    "print(sort_letters)"
   ]
  },
  {
   "cell_type": "markdown",
   "metadata": {},
   "source": [
    "################################################################################################################################\n",
    "#                                            Third way of doing it                                                     #\n",
    "################################################################################################################################"
   ]
  },
  {
   "cell_type": "markdown",
   "metadata": {},
   "source": [
    "**Answer**"
   ]
  },
  {
   "cell_type": "code",
   "execution_count": 6,
   "metadata": {
    "collapsed": false
   },
   "outputs": [
    {
     "name": "stdout",
     "output_type": "stream",
     "text": [
      "\n",
      "Letters and their frequency in descending order is: \n",
      "========================================================================================================================\n",
      "Counter({'e': 117092, 't': 87996, 'a': 77916, 'o': 69326, 'n': 65617, 'i': 65434, 's': 64231, 'h': 62896, 'r': 52134, 'l': 42793, 'd': 38219, 'u': 26697, 'm': 23277, 'c': 22507, 'w': 22222, 'f': 20833, 'g': 20820, 'p': 17255, 'b': 16877, 'y': 16872, 'v': 8598, 'k': 8059, 'q': 1556, 'j': 1082, 'x': 1030, 'z': 632})\n"
     ]
    }
   ],
   "source": [
    "# From collections import Counter\n",
    "from collections import Counter\n",
    "c = Counter()\n",
    "for x in all_letters:\n",
    "    c += Counter(x.strip())\n",
    "\n",
    "# Print sorted list of letters as per their frequency in descending order\n",
    "print(\"\\nLetters and their frequency in descending order is: \")\n",
    "print(\"========================================================================================================================\")\n",
    "print(c)"
   ]
  },
  {
   "cell_type": "markdown",
   "metadata": {},
   "source": [
    "################################################################################################################################\n",
    "#                                            Fourth way of doing it                                                  #\n",
    "################################################################################################################################"
   ]
  },
  {
   "cell_type": "markdown",
   "metadata": {},
   "source": [
    "**Answer**"
   ]
  },
  {
   "cell_type": "code",
   "execution_count": 7,
   "metadata": {
    "collapsed": false
   },
   "outputs": [
    {
     "data": {
      "text/html": [
       "<div>\n",
       "<table border=\"1\" class=\"dataframe\">\n",
       "  <thead>\n",
       "    <tr style=\"text-align: right;\">\n",
       "      <th></th>\n",
       "      <th>Letter</th>\n",
       "      <th>Count</th>\n",
       "    </tr>\n",
       "  </thead>\n",
       "  <tbody>\n",
       "    <tr>\n",
       "      <th>9</th>\n",
       "      <td>e</td>\n",
       "      <td>117092</td>\n",
       "    </tr>\n",
       "    <tr>\n",
       "      <th>18</th>\n",
       "      <td>t</td>\n",
       "      <td>87996</td>\n",
       "    </tr>\n",
       "    <tr>\n",
       "      <th>8</th>\n",
       "      <td>a</td>\n",
       "      <td>77916</td>\n",
       "    </tr>\n",
       "    <tr>\n",
       "      <th>0</th>\n",
       "      <td>o</td>\n",
       "      <td>69326</td>\n",
       "    </tr>\n",
       "    <tr>\n",
       "      <th>13</th>\n",
       "      <td>n</td>\n",
       "      <td>65617</td>\n",
       "    </tr>\n",
       "    <tr>\n",
       "      <th>1</th>\n",
       "      <td>i</td>\n",
       "      <td>65434</td>\n",
       "    </tr>\n",
       "    <tr>\n",
       "      <th>20</th>\n",
       "      <td>s</td>\n",
       "      <td>64231</td>\n",
       "    </tr>\n",
       "    <tr>\n",
       "      <th>22</th>\n",
       "      <td>h</td>\n",
       "      <td>62896</td>\n",
       "    </tr>\n",
       "    <tr>\n",
       "      <th>11</th>\n",
       "      <td>r</td>\n",
       "      <td>52134</td>\n",
       "    </tr>\n",
       "    <tr>\n",
       "      <th>4</th>\n",
       "      <td>l</td>\n",
       "      <td>42793</td>\n",
       "    </tr>\n",
       "    <tr>\n",
       "      <th>6</th>\n",
       "      <td>d</td>\n",
       "      <td>38219</td>\n",
       "    </tr>\n",
       "    <tr>\n",
       "      <th>2</th>\n",
       "      <td>u</td>\n",
       "      <td>26697</td>\n",
       "    </tr>\n",
       "    <tr>\n",
       "      <th>14</th>\n",
       "      <td>m</td>\n",
       "      <td>23277</td>\n",
       "    </tr>\n",
       "    <tr>\n",
       "      <th>25</th>\n",
       "      <td>c</td>\n",
       "      <td>22507</td>\n",
       "    </tr>\n",
       "    <tr>\n",
       "      <th>5</th>\n",
       "      <td>w</td>\n",
       "      <td>22222</td>\n",
       "    </tr>\n",
       "    <tr>\n",
       "      <th>24</th>\n",
       "      <td>f</td>\n",
       "      <td>20833</td>\n",
       "    </tr>\n",
       "    <tr>\n",
       "      <th>3</th>\n",
       "      <td>g</td>\n",
       "      <td>20820</td>\n",
       "    </tr>\n",
       "    <tr>\n",
       "      <th>15</th>\n",
       "      <td>p</td>\n",
       "      <td>17255</td>\n",
       "    </tr>\n",
       "    <tr>\n",
       "      <th>21</th>\n",
       "      <td>b</td>\n",
       "      <td>16877</td>\n",
       "    </tr>\n",
       "    <tr>\n",
       "      <th>7</th>\n",
       "      <td>y</td>\n",
       "      <td>16872</td>\n",
       "    </tr>\n",
       "    <tr>\n",
       "      <th>19</th>\n",
       "      <td>v</td>\n",
       "      <td>8598</td>\n",
       "    </tr>\n",
       "    <tr>\n",
       "      <th>16</th>\n",
       "      <td>k</td>\n",
       "      <td>8059</td>\n",
       "    </tr>\n",
       "    <tr>\n",
       "      <th>10</th>\n",
       "      <td>q</td>\n",
       "      <td>1556</td>\n",
       "    </tr>\n",
       "    <tr>\n",
       "      <th>23</th>\n",
       "      <td>j</td>\n",
       "      <td>1082</td>\n",
       "    </tr>\n",
       "    <tr>\n",
       "      <th>17</th>\n",
       "      <td>x</td>\n",
       "      <td>1030</td>\n",
       "    </tr>\n",
       "    <tr>\n",
       "      <th>12</th>\n",
       "      <td>z</td>\n",
       "      <td>632</td>\n",
       "    </tr>\n",
       "  </tbody>\n",
       "</table>\n",
       "</div>"
      ],
      "text/plain": [
       "   Letter   Count\n",
       "9       e  117092\n",
       "18      t   87996\n",
       "8       a   77916\n",
       "0       o   69326\n",
       "13      n   65617\n",
       "1       i   65434\n",
       "20      s   64231\n",
       "22      h   62896\n",
       "11      r   52134\n",
       "4       l   42793\n",
       "6       d   38219\n",
       "2       u   26697\n",
       "14      m   23277\n",
       "25      c   22507\n",
       "5       w   22222\n",
       "24      f   20833\n",
       "3       g   20820\n",
       "15      p   17255\n",
       "21      b   16877\n",
       "7       y   16872\n",
       "19      v    8598\n",
       "16      k    8059\n",
       "10      q    1556\n",
       "23      j    1082\n",
       "17      x    1030\n",
       "12      z     632"
      ]
     },
     "execution_count": 7,
     "metadata": {},
     "output_type": "execute_result"
    }
   ],
   "source": [
    "# Import pandas as pd\n",
    "import pandas as pd\n",
    "\n",
    "# Convert the dictionary to a DataFrame\n",
    "letter_count_df = pd.DataFrame(list(letter_count_dict.items()), columns=['Letter','Count'])\n",
    "\n",
    "# Sort the letter counts in descending order\n",
    "sorted_letter_df = letter_count_df.sort_values(by=\"Count\", ascending=False)\n",
    "\n",
    "# Print the sorted df items\n",
    "sorted_letter_df.head(len(sorted_letter_df))"
   ]
  },
  {
   "cell_type": "code",
   "execution_count": null,
   "metadata": {
    "collapsed": true
   },
   "outputs": [],
   "source": []
  }
 ],
 "metadata": {
  "anaconda-cloud": {},
  "kernelspec": {
   "display_name": "Python [conda root]",
   "language": "python",
   "name": "conda-root-py"
  },
  "language_info": {
   "codemirror_mode": {
    "name": "ipython",
    "version": 3
   },
   "file_extension": ".py",
   "mimetype": "text/x-python",
   "name": "python",
   "nbconvert_exporter": "python",
   "pygments_lexer": "ipython3",
   "version": "3.5.2"
  }
 },
 "nbformat": 4,
 "nbformat_minor": 1
}
