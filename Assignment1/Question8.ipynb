{
 "cells": [
  {
   "cell_type": "markdown",
   "metadata": {},
   "source": [
    "################################################################################################################################\n",
    "#                Assignment1: Author-Vaishali Lambe, NUID-001286444                       #\n",
    "################################################################################################################################\n",
    "**Question 8:**\n",
    "\n",
    "* Use nps_chat and wordlist corpus.\n",
    "* If you find a word in nps_chat but not in wordlist, it is considered an unusual word. (e.g. Heyyyy, gr8, 4ever can be considered unusual words for this analysis)\n",
    "* Find out how many unusual words people speak in chat (notice: usernames should not be counted)\n",
    "* Bonus: What if I want to  count : ) , : ( all these emoticons in. (optional)\n",
    "\n",
    "################################################################################################################################"
   ]
  },
  {
   "cell_type": "code",
   "execution_count": 1,
   "metadata": {
    "collapsed": false
   },
   "outputs": [
    {
     "name": "stdout",
     "output_type": "stream",
     "text": [
      "['10-19-20s_706posts.xml', '10-19-30s_705posts.xml', '10-19-40s_686posts.xml', '10-19-adults_706posts.xml', '10-24-40s_706posts.xml', '10-26-teens_706posts.xml', '11-06-adults_706posts.xml', '11-08-20s_705posts.xml', '11-08-40s_706posts.xml', '11-08-adults_705posts.xml', '11-08-teens_706posts.xml', '11-09-20s_706posts.xml', '11-09-40s_706posts.xml', '11-09-adults_706posts.xml', '11-09-teens_706posts.xml']\n",
      "['en', 'en-basic']\n"
     ]
    }
   ],
   "source": [
    "# From nltk.corpus import nps_chat, words\n",
    "from nltk.corpus import nps_chat\n",
    "from nltk.corpus import words\n",
    "\n",
    "# List files from nps_chat\n",
    "print(nps_chat.fileids())\n",
    "\n",
    "# List files from words\n",
    "print(words.fileids())"
   ]
  },
  {
   "cell_type": "code",
   "execution_count": 2,
   "metadata": {
    "collapsed": false
   },
   "outputs": [
    {
     "name": "stdout",
     "output_type": "stream",
     "text": [
      "['apachism', 'apachite', 'apadana', 'apagoge', 'apagogic', 'apagogical', 'apagogically', 'apaid', 'apalachee', 'apalit', 'apama', 'apandry', 'apanteles', 'apantesis', 'apanthropia', 'apanthropy', 'apar', 'aparai', 'aparaphysate', 'aparejo', 'apargia', 'aparithmesis', 'apart', 'apartheid', 'aparthrosis', 'apartment', 'apartmental', 'apartness', 'apasote', 'apastron', 'apatan', 'apatela', 'apatetic', 'apathetic', 'apathetical', 'apathetically', 'apathic', 'apathism', 'apathist', 'apathistical', 'apathogenic', 'apathus', 'apathy', 'apatite', 'apatornis', 'apatosaurus', 'apaturia', 'apayao', 'ape', 'apeak', 'apectomy', 'apedom', 'apehood', 'apeiron', 'apelet', 'apelike', 'apeling', 'apellous', 'apemantus', 'apennine', 'apenteric', 'apepsia', 'apepsinia', 'apepsy', 'apeptic', 'aper', 'aperch', 'aperea', 'aperient', 'aperiodic', 'aperiodically', 'aperiodicity', 'aperispermic', 'aperistalsis', 'aperitive', 'apert', 'apertly', 'apertness', 'apertometer', 'apertural', 'aperture', 'apertured', 'aperu', 'apery', 'apesthesia', 'apesthetic', 'apesthetize', 'apetalae', 'apetaloid', 'apetalose', 'apetalous', 'apetalousness', 'apetaly', 'apex', 'apexed', 'aphaeresis', 'aphaeretic', 'aphagia', 'aphakia', 'aphakial', 'aphakic', 'aphanapteryx', 'aphanes', 'aphanesite', 'aphaniptera', 'aphanipterous', 'aphanite', 'aphanitic', 'aphanitism', 'aphanomyces', 'aphanophyre', 'aphanozygous', 'apharsathacites', 'aphasia', 'aphasiac', 'aphasic', 'aphelandra', 'aphelenchus', 'aphelian', 'aphelinus', 'aphelion', 'apheliotropic', 'apheliotropically', 'apheliotropism', 'aphelops', 'aphemia', 'aphemic', 'aphengescope', 'aphengoscope', 'aphenoscope', 'apheresis', 'apheretic', 'aphesis', 'apheta', 'aphetic', 'aphetically', 'aphetism', 'aphetize', 'aphicidal', 'aphicide', 'aphid', 'aphides', 'aphidian', 'aphidicide', 'aphidicolous', 'aphidid', 'aphididae', 'aphidiinae', 'aphidious', 'aphidius', 'aphidivorous', 'aphidolysin', 'aphidophagous', 'aphidozer', 'aphilanthropy', 'aphis', 'aphlaston', 'aphlebia', 'aphlogistic', 'aphnology', 'aphodal', 'aphodian', 'aphodius', 'aphodus', 'aphonia', 'aphonic', 'aphonous', 'aphony', 'aphoria', 'aphorism', 'aphorismatic', 'aphorismer', 'aphorismic', 'aphorismical', 'aphorismos', 'aphorist', 'aphoristic', 'aphoristically', 'aphorize', 'aphorizer', 'aphoruridae', 'aphotic', 'aphototactic', 'aphototaxis', 'aphototropic', 'aphototropism', 'aphra', 'aphrasia', 'aphrite', 'aphrizite', 'aphrodisia', 'aphrodisiac', 'aphrodisiacal', 'aphrodisian', 'aphrodision', 'aphrodistic', 'aphrodite', 'aphroditeum', 'aphroditic', 'aphroditidae', 'aphroditous', 'aphrolite', 'aphronia', 'aphrosiderite', 'aphtha', 'aphthartodocetae', 'aphthartodocetic', 'aphthartodocetism', 'aphthic', 'aphthitalite', 'aphthoid', 'aphthong', 'aphthongal', 'aphthongia', 'aphthous', 'aphydrotropic', 'aphydrotropism', 'aphyllose', 'aphyllous', 'aphylly', 'aphyric', 'apiaca', 'apiaceae', 'apiaceous', 'apiales', 'apian', 'apiarian', 'apiarist', 'apiary', 'apiator', 'apicad', 'apical', 'apically', 'apices', 'apician', 'apicifixed', 'apicilar', 'apicillary', 'apicitis', 'apickaback', 'apicoectomy', 'apicolysis', 'apicula', 'apicular', 'apiculate', 'apiculated', 'apiculation', 'apicultural', 'apiculture', 'apiculturist', 'apiculus', 'apidae', 'apiece', 'apieces', 'apigenin', 'apii', 'apiin', 'apikoros', 'apilary', 'apina', 'apinae', 'apinage', 'apinch', 'aping', 'apinoid', 'apio', 'apioceridae', 'apioid', 'apioidal', 'apiole', 'apiolin', 'apiologist', 'apiology', 'apionol', 'apios', 'apiose', 'apiosoma', 'apiphobia', 'apis', 'apish', 'apishamore', 'apishly', 'apishness', 'apism', 'apitong', 'apitpat', 'apium', 'apivorous', 'apjohnite', 'aplacental', 'aplacentalia', 'aplacentaria', 'aplacophora', 'aplacophoran', 'aplacophorous', 'aplanat', 'aplanatic', 'aplanatically', 'aplanatism', 'aplanobacter', 'aplanogamete', 'aplanospore', 'aplasia', 'aplastic', 'aplectrum', 'aplenty', 'aplite', 'aplitic', 'aplobasalt', 'aplodiorite', 'aplodontia', 'aplodontiidae', 'aplomb', 'aplome', 'aplopappus', 'aploperistomatous', 'aplostemonous', 'aplotaxene', 'aplotomy', 'apluda', 'aplustre', 'aplysia', 'apnea', 'apneal', 'apneic', 'apneumatic', 'apneumatosis', 'apneumona', 'apneumonous', 'apneustic', 'apoaconitine', 'apoatropine', 'apobiotic', 'apoblast', 'apocaffeine', 'apocalypse', 'apocalypst', 'apocalypt', 'apocalyptic', 'apocalyptical', 'apocalyptically', 'apocalypticism', 'apocalyptism', 'apocalyptist', 'apocamphoric', 'apocarp', 'apocarpous', 'apocarpy', 'apocatastasis', 'apocatastatic', 'apocatharsis', 'apocenter', 'apocentric', 'apocentricity', 'apocha', 'apocholic', 'apochromat', 'apochromatic', 'apochromatism', 'apocinchonine', 'apocodeine', 'apocopate', 'apocopated', 'apocopation', 'apocope', 'apocopic', 'apocrenic', 'apocrisiary', 'apocrita', 'apocrustic', 'apocryph', 'apocrypha', 'apocryphal', 'apocryphalist', 'apocryphally', 'apocryphalness', 'apocryphate', 'apocryphon', 'apocynaceae', 'apocynaceous', 'apocyneous', 'apocynum', 'apod', 'apoda', 'apodal', 'apodan', 'apodeipnon', 'apodeixis', 'apodema', 'apodemal', 'apodematal', 'apodeme', 'apodes', 'apodia', 'apodictic', 'apodictical', 'apodictically', 'apodictive', 'apodidae', 'apodixis', 'apodosis', 'apodous', 'apodyterium', 'apoembryony', 'apofenchene', 'apogaeic', 'apogalacteum', 'apogamic', 'apogamically', 'apogamous', 'apogamously', 'apogamy', 'apogeal', 'apogean', 'apogee', 'apogeic', 'apogenous', 'apogeny', 'apogeotropic', 'apogeotropically', 'apogeotropism', 'apogon', 'apogonidae', 'apograph', 'apographal', 'apoharmine', 'apohyal', 'apoidea', 'apoise', 'apojove', 'apokrea', 'apokreos', 'apolar', 'apolarity', 'apolaustic', 'apolegamic', 'apolista', 'apolistan', 'apollinarian', 'apollinarianism', 'apolline', 'apollo', 'apollonia', 'apollonian', 'apollonic', 'apollonicon', 'apollonistic', 'apolloship', 'apollyon', 'apologal', 'apologete', 'apologetic', 'apologetical', 'apologetically', 'apologetics', 'apologia', 'apologist', 'apologize', 'apologizer', 'apologue', 'apology', 'apolousis', 'apolysin', 'apolysis', 'apolytikion', 'apomecometer', 'apomecometry', 'apometabolic', 'apometabolism', 'apometabolous', 'apometaboly', 'apomictic', 'apomictical', 'apomixis', 'apomorphia', 'apomorphine', 'aponeurology', 'aponeurorrhaphy', 'aponeurosis', 'aponeurositis', 'aponeurotic', 'aponeurotome', 'aponeurotomy', 'aponia', 'aponic', 'aponogeton', 'aponogetonaceae', 'aponogetonaceous', 'apoop', 'apopenptic', 'apopetalous', 'apophantic', 'apophasis', 'apophatic', 'apophis', 'apophlegmatic', 'apophonia', 'apophony', 'apophorometer', 'apophthegm', 'apophthegmatist', 'apophyge', 'apophylactic', 'apophylaxis', 'apophyllite', 'apophyllous', 'apophysary', 'apophysate', 'apophyseal', 'apophysis', 'apophysitis', 'apoplasmodial', 'apoplastogamous', 'apoplectic', 'apoplectical', 'apoplectically', 'apoplectiform', 'apoplectoid', 'apoplex', 'apoplexy', 'apopyle', 'apoquinamine', 'apoquinine', 'aporetic', 'aporetical', 'aporhyolite', 'aporia', 'aporobranchia', 'aporobranchian', 'aporobranchiata', 'aporocactus', 'aporosa', 'aporose', 'aporphin', 'aporphine', 'aporrhaidae', 'aporrhais', 'aporrhaoid', 'aporrhegma', 'aport', 'aportoise', 'aposafranine', 'aposaturn', 'aposaturnium', 'aposematic', 'aposematically', 'aposepalous', 'aposia', 'aposiopesis', 'aposiopetic', 'apositia', 'apositic', 'aposoro', 'aposporogony', 'aposporous', 'apospory', 'apostasis', 'apostasy', 'apostate', 'apostatic', 'apostatical', 'apostatically', 'apostatism', 'apostatize', 'apostaxis', 'apostemate', 'apostematic', 'apostemation', 'apostematous', 'aposteme', 'aposteriori', 'aposthia', 'apostil', 'apostle', 'apostlehood', 'apostleship', 'apostolate', 'apostoless', 'apostoli', 'apostolian', 'apostolic', 'apostolical', 'apostolically', 'apostolicalness', 'apostolici', 'apostolicism', 'apostolicity', 'apostolize', 'apostolos', 'apostrophal', 'apostrophation', 'apostrophe', 'apostrophic', 'apostrophied', 'apostrophize', 'apostrophus', 'apotactic', 'apotactici', 'apotelesm', 'apotelesmatic', 'apotelesmatical', 'apothecal', 'apothecary', 'apothecaryship', 'apothece', 'apothecial', 'apothecium', 'apothegm', 'apothegmatic', 'apothegmatical', 'apothegmatically', 'apothegmatist', 'apothegmatize', 'apothem', 'apotheose', 'apotheoses', 'apotheosis', 'apotheosize', 'apothesine', 'apothesis', 'apotome', 'apotracheal', 'apotropaic', 'apotropaion', 'apotropaism', 'apotropous', 'apoturmeric', 'apotype', 'apotypic', 'apout', 'apoxesis', 'apoxyomenos', 'apozem', 'apozema', 'apozemical', 'apozymase', 'appalachia', 'appalachian', 'appall', 'appalling', 'appallingly', 'appallment', 'appalment', 'appanage', 'appanagist', 'apparatus', 'apparel', 'apparelment', 'apparence', 'apparency', 'apparent', 'apparently', 'apparentness', 'apparition', 'apparitional', 'apparitor', 'appassionata', 'appassionato', 'appay', 'appeal', 'appealability', 'appealable', 'appealer', 'appealing', 'appealingly', 'appealingness', 'appear', 'appearance', 'appearanced', 'appearer', 'appeasable', 'appeasableness', 'appeasably', 'appease', 'appeasement', 'appeaser', 'appeasing', 'appeasingly', 'appeasive', 'appellability', 'appellable', 'appellancy', 'appellant', 'appellate', 'appellation', 'appellational', 'appellative', 'appellatived', 'appellatively', 'appellativeness', 'appellatory', 'appellee', 'appellor', 'append', 'appendage', 'appendaged', 'appendalgia', 'appendance', 'appendancy', 'appendant', 'appendectomy', 'appendical', 'appendicalgia', 'appendice', 'appendicectasis', 'appendicectomy', 'appendices', 'appendicial', 'appendicious', 'appendicitis', 'appendicle', 'appendicocaecostomy', 'appendicostomy', 'appendicular', 'appendicularia', 'appendicularian', 'appendiculariidae', 'appendiculata', 'appendiculate', 'appendiculated', 'appenditious', 'appendix', 'appendorontgenography', 'appendotome', 'appentice', 'apperceive', 'apperception', 'apperceptionism', 'apperceptionist', 'apperceptionistic', 'apperceptive', 'apperceptively', 'appercipient', 'appersonation', 'appertain', 'appertainment', 'appertinent', 'appet', 'appete', 'appetence', 'appetency', 'appetent', 'appetently', 'appetibility', 'appetible', 'appetibleness', 'appetite', 'appetition', 'appetitional', 'appetitious', 'appetitive', 'appetize', 'appetizement', 'appetizer', 'appetizingly', 'appinite', 'appius', 'applanate', 'applanation', 'applaud', 'applaudable', 'applaudably', 'applauder', 'applaudingly', 'applause', 'applausive', 'applausively', 'apple', 'appleberry', 'appleblossom', 'applecart', 'appledrane', 'applegrower', 'applejack', 'applejohn', 'applemonger', 'applenut', 'appleringy', 'appleroot', 'applesauce', 'applewife', 'applewoman', 'appliable', 'appliableness', 'appliably', 'appliance', 'appliant', 'applicability', 'applicable', 'applicableness', 'applicably', 'applicancy', 'applicant', 'applicate', 'application', 'applicative', 'applicatively', 'applicator', 'applicatorily', 'applicatory', 'applied', 'appliedly', 'applier', 'applique', 'applosion', 'applosive', 'applot', 'applotment', 'apply', 'applyingly', 'applyment', 'appoggiatura', 'appoint', 'appointable', 'appointe', 'appointee', 'appointer', 'appointive', 'appointment', 'appointor', 'appomatox', 'appomattoc', 'apport', 'apportion', 'apportionable', 'apportioner', 'apportionment', 'apposability', 'apposable', 'appose', 'apposer', 'apposiopestic', 'apposite', 'appositely', 'appositeness', 'apposition', 'appositional', 'appositionally', 'appositive', 'appositively', 'appraisable', 'appraisal', 'appraise', 'appraisement', 'appraiser', 'appraising', 'appraisingly', 'appraisive', 'appreciable', 'appreciably', 'appreciant', 'appreciate', 'appreciatingly', 'appreciation', 'appreciational', 'appreciativ', 'appreciative', 'appreciatively', 'appreciativeness', 'appreciator', 'appreciatorily', 'appreciatory', 'appredicate', 'apprehend', 'apprehender', 'apprehendingly', 'apprehensibility', 'apprehensible', 'apprehensibly', 'apprehension', 'apprehensive', 'apprehensively', 'apprehensiveness', 'apprend', 'apprense', 'apprentice', 'apprenticehood', 'apprenticement', 'apprenticeship', 'appressed', 'appressor', 'appressorial', 'appressorium', 'appreteur', 'apprise', 'apprize', 'apprizement', 'apprizer', 'approach', 'approachability', 'approachabl', 'approachable', 'approachableness', 'approacher', 'approaching', 'approachless', 'approachment', 'approbate', 'approbation', 'approbative', 'approbativeness', 'approbator', 'approbatory', 'approof', 'appropinquate', 'appropinquation', 'appropinquity', 'appropre', 'appropriable', 'appropriate', 'appropriately', 'appropriateness', 'appropriation', 'appropriative', 'appropriativeness', 'appropriator', 'approvable', 'approvableness', 'approval', 'approvance', 'approve', 'approvedly', 'approvedness', 'approvement', 'approver', 'approvingly', 'approximal', 'approximate', 'approximately', 'approximation', 'approximative', 'approximatively', 'approximativeness', 'approximator', 'appulse', 'appulsion', 'appulsive', 'appulsively', 'appurtenance', 'appurtenant', 'apractic', 'apraxia', 'apraxic', 'apricate', 'aprication', 'aprickle', 'apricot', 'april', 'aprilesque', 'apriline', 'aprilis', 'apriori', 'apriorism', 'apriorist', 'aprioristic', 'apriority', 'aprocta', 'aproctia', 'aproctous', 'apron', 'aproneer', 'apronful', 'apronless', 'apronlike', 'apropos', 'aprosexia', 'aprosopia', 'aprosopous', 'aproterodont', 'apse', 'apselaphesia', 'apselaphesis', 'apsidal', 'apsidally', 'apsides', 'apsidiole', 'apsis', 'apsychia', 'apsychical', 'apt', 'aptal', 'aptenodytes', 'aptera', 'apteral', 'apteran', 'apterial', 'apterium', 'apteroid', 'apterous', 'apteryges', 'apterygial', 'apterygidae', 'apterygiformes', 'apterygogenea', 'apterygota', 'apterygote', 'apterygotous', 'apteryx', 'aptian', 'aptiana']\n",
      "234371\n",
      "['a', 'able', 'about', 'account', 'acid', 'across', 'act', 'addition', 'adjustment', 'advertisement', 'after', 'again', 'against', 'agreement', 'air', 'all', 'almost', 'among', 'amount', 'amusement', 'and', 'angle', 'angry', 'animal', 'answer', 'ant', 'any', 'apparatus', 'apple', 'approval', 'arch', 'argument', 'arm', 'army', 'art', 'as', 'at', 'attack', 'attempt', 'attention', 'attraction', 'authority', 'automatic', 'awake', 'baby', 'back', 'bad', 'bag', 'balance', 'ball', 'band', 'base', 'basin', 'basket', 'bath', 'be', 'beautiful', 'because', 'bed', 'bee', 'before', 'behaviour', 'belief', 'bell', 'bent', 'berry', 'between', 'bird', 'birth', 'bit', 'bite', 'bitter', 'black', 'blade', 'blood', 'blow', 'blue', 'board', 'boat', 'body', 'boiling', 'bone', 'book', 'boot', 'bottle', 'box', 'boy', 'brain', 'brake', 'branch', 'brass', 'bread', 'breath', 'brick', 'bridge', 'bright', 'broken', 'brother', 'brown', 'brush']\n",
      "850\n"
     ]
    }
   ],
   "source": [
    "# Exploration: what's the difference between words('en') and words('en-basic')?\n",
    "en_words = sorted(set([w.lower() for w in words.words('en')]))\n",
    "print(en_words[11000:12000])\n",
    "print(len(en_words))\n",
    "\n",
    "en_basic_words = sorted(set([w.lower() for w in words.words('en-basic')]))\n",
    "print(en_basic_words[0:100])\n",
    "print(len(en_basic_words))"
   ]
  },
  {
   "cell_type": "code",
   "execution_count": 3,
   "metadata": {
    "collapsed": false
   },
   "outputs": [
    {
     "name": "stdout",
     "output_type": "stream",
     "text": [
      "{'11-06-adultsUser103', '11-08-40sUser58', '10-19-adultsUser18', '10-19-20sUser30', '10-26-teensUser13', '10-19-20sUser121', '11-09-teensUser190', '11-09-teensUser171', '11-09-teensUser164', '11-09-20sUser122', '10-24-40sUser37', '11-09-teensUser123', '11-06-adultsUser80', '11-09-20sUser88', '11-09-20sUser142', '11-09-teensUser93', '10-24-40sUser12', '11-09-adultsUser103', '11-06-adultsUser64', '11-08-40sUser43', '11-08-teensUser123', '10-19-20sUser68', '11-09-40sUser4', '11-09-teensUser142', '10-19-20sUser132', '10-19-adultsUser21', '11-08-20sUser101', '11-08-adultsUser82', '11-09-adultsUser31', '10-19-30sUser24', '11-08-20sUser89', '11-08-40sUser78', '11-09-adultsUser17', '10-19-20sUser126', '11-09-adultsUser110', '11-06-adultsUser122', '10-19-40sUser22', '11-06-adultsUser25', '10-19-20sUser166', '10-26-teensUser97', '10-26-teensUser81', '11-08-20sUser79', '10-19-20sUser40', '11-08-teensUser140', '11-09-20sUser124', '11-08-40sUser2', '11-08-teensUser51', '11-09-teensUser8', '11-09-teensUser102', '11-09-teensUser38', '11-09-adultsUser75', '11-08-20sUser147', '10-26-teensUser102', '11-09-teensUser151', '10-24-40sUser53', '11-08-teensUser80', '11-06-adultsUser83', '11-08-adultsUser83', '11-09-adultsUser16', '10-19-20sUser5', '11-09-20sUser41', '10-19-30sUser43', '11-09-teensUser73', '11-08-40sUser4', '10-26-teensUser117', '11-08-adultsUser18', '11-09-teensUser131', '11-09-40sUser22', '11-08-teensUser63', '11-09-40sUser30', '10-26-teensUser6', '11-09-adultsUser102', '11-08-adultsUser88', '10-26-teensUser128', '11-09-adultsUser86', '11-08-teensUser67', '11-09-teensUser161', '10-26-teensUser12', '11-09-teensUser163', '11-09-teensUser25', '11-09-20sUser138', '11-09-adultsUser27', '11-09-teensUser174', '11-09-adultsUser32', '11-09-20sUser77', '11-08-adultsUser38', '11-09-teensUser192', '11-08-20sUser67', '11-08-teensUser162', '10-19-40sUser48', '10-26-teensUser18', '11-09-adultsUser111', '11-08-adultsUser112', '11-09-adultsUser76', '11-08-teensUser107', '10-19-20sUser105', '11-09-20sUser13', '11-08-adultsUser129', '11-08-teensUser30', '11-09-20sUser69', '11-08-teensUser170', '11-09-adultsUser15', '10-26-teensUser90', '11-08-40sUser63', '10-24-40sUser33', '10-19-20sUser160', '11-08-adultsUser4', '11-08-teensUser53', '11-09-adultsUser21', '11-08-40sUser7', '11-08-adultsUser137', '11-08-adultsUser124', '11-09-40sUser57', '11-08-teensUser94', '11-08-20sUser123', '10-24-40sUser24', '10-19-adultsUser36', '11-08-teensUser43', '11-06-adultsUser132', '10-26-teensUser151', '10-19-30sUser0', '10-26-teensUser123', '11-08-teensUser54', '11-08-adultsUser138', '11-08-teensUser139', '11-08-adultsUser48', '11-08-teensUser95', '11-08-adultsUser26', '11-06-adultsUser26', '10-26-teensUser142', '10-19-adultsUser45', '11-09-teensUser111', '11-08-adultsUser19', '11-08-20sUser129', '10-19-20sUser102', '11-08-40sUser73', '11-08-teensUser137', '11-09-adultsUser10', '11-09-adultsUser38', '10-19-20sUser49', '11-08-teensUser169', '11-08-teensUser21', '10-26-teensUser152', '10-26-teensUser17', '10-26-teensUser144', '11-09-teensUser191', '11-06-adultsUser90', '11-06-adultsUser120', '11-09-20sUser20', '10-24-40sUser30', '11-08-20sUser46', '11-08-adultsUser84', '10-26-teensUser2', '11-06-adultsUser123', '11-06-adultsUser52', '11-09-20sUser151', '10-26-teensUser16', '10-19-40sUser39', '10-19-20sUser124', '10-19-20sUser92', '10-19-adultsUser54', '10-19-20sUser158', '11-08-teensUser125', '10-26-teensUser29', '11-08-40sUser50', '11-08-adultsUser89', '11-08-teensUser4', '11-06-adultsUser87', '10-26-teensUser153', '11-09-teensUser92', '11-08-40sUser34', '10-19-20sUser129', '11-09-teensUser126', '10-19-adultsUser55', '10-24-40sUser51', '11-08-20sUser40', '11-09-teensUser141', '11-09-20sUser74', '11-09-20sUser100', '10-19-adultsUser44', '10-19-20sUser122', '11-08-teensUser164', '10-26-teensUser83', '10-19-adultsUser61', '10-19-40sUser54', '11-09-teensUser173', '11-08-teensUser6', '11-09-teensUser198', '11-08-adultsUser118', '10-19-30sUser23', '11-09-40sUser25', '11-09-adultsUser18', '10-19-20sUser23', '10-26-teensUser108', '11-06-adultsUser100', '11-09-20sUser9', '11-06-adultsUser91', '11-09-20sUser16', '11-09-adultsUser37', '11-08-20sUser136', '11-08-adultsUser94', '11-08-teensUser166', '11-06-adultsUser18', '11-08-adultsUser110', '10-26-teensUser84', '10-26-teensUser114', '11-08-adultsUser30', '11-08-teensUser20', '10-19-adultsUser23', '11-08-adultsUser85', '11-09-40sUser8', '11-09-20sUser161', '11-08-adultsUser47', '11-08-teensUser64', '10-19-30sUser36', '11-09-20sUser173', '11-09-40sUser20', '11-09-20sUser169', '10-24-40sUser44', '11-06-adultsUser129', '10-19-30sUser41', '11-06-adultsUser105', '11-08-adultsUser108', '10-19-adultsUser47', '11-09-20sUser131', '11-09-teensUser125', '11-08-40sUser68', '10-26-teensUser76', '10-19-20sUser161', '10-19-adultsUser50', '11-08-40sUser74', '11-09-teensUser180', '11-06-adultsUser94', '11-09-adultsUser30', '11-06-adultsUser4', '10-19-30sUser5', '10-19-adultsUser56', '11-09-adultsUser54', '11-08-teensUser73', '10-19-20sUser67', '11-09-teensUser128', '11-09-20sUser133', '10-19-40sUser37', '11-08-20sUser137', '10-19-30sUser2', '10-19-20sUser130', '10-26-teensUser48', '11-09-20sUser57', '11-09-20sUser139', '11-09-20sUser174', '11-08-teensUser142', '10-19-20sUser163', '11-09-20sUser113', '11-08-20sUser151', '11-09-20sUser105', '11-09-adultsUser104', '11-08-40sUser22', '11-09-20sUser137', '11-08-teensUser136', '10-19-adultsUser42', '11-08-20sUser128', '11-08-40sUser38', '11-09-teensUser195', '11-08-adultsUser121', '11-06-adultsUser85', '11-09-teensUser127', '11-09-20sUser10', '11-06-adultsUser106', '11-09-adultsUser99', '11-08-teensUser165', '10-19-20sUser44', '10-19-30sUser21', '11-08-20sUser144', '11-08-adultsUser12', '11-09-40sUser37', '11-08-adultsUser106', '11-09-40sUser38', '11-09-teensUser97', '11-09-20sUser179', '11-09-teensUser135', '11-08-teensUser156', '10-19-30sUser10', '11-08-teensUser127', '11-09-20sUser80', '11-09-20sUser126', '10-26-teensUser145', '11-08-20sUser109', '11-06-adultsUser35', '10-19-adultsUser49', '11-09-20sUser27', '11-09-adultsUser23', '11-08-20sUser20', '11-09-40sUser44', '10-26-teensUser143', '11-09-20sUser170', '11-09-adultsUser53', '11-08-adultsUser74', '11-06-adultsUser86', '11-08-adultsUser125', '10-26-teensUser77', '10-19-adultsUser58', '11-08-teensUser79', '11-08-adultsUser133', '10-26-teensUser134', '11-08-teensUser3', '10-19-40sUser33', '11-09-20sUser176', '11-09-20sUser83', '11-08-20sUser140', '11-08-40sUser17', '11-08-adultsUser115', '10-26-teensUser66', '11-09-20sUser96', '11-09-adultsUser73', '11-09-adultsUser81', '10-19-30sUser29', '11-09-teensUser107', '10-19-20sUser13', '11-08-teensUser150', '11-08-adultsUser1', '11-09-40sUser15', '11-09-40sUser46', '10-19-adultsUser22', '11-09-adultsUser82', '11-09-20sUser148', '11-09-adultsUser62', '11-09-adultsUser105', '10-19-30sUser20', '10-19-20sUser162', '11-08-teensUser135', '11-08-teensUser133', '11-09-40sUser54', '11-09-40sUser50', '11-09-adultsUser67', '11-09-40sUser14', '10-26-teensUser3', '11-08-teensUser172', '11-09-40sUser47', '10-26-teensUser127', '10-19-adultsUser59', '11-09-40sUser7', '11-09-adultsUser77', '10-19-adultsUser37', '11-09-teensUser168', '10-26-teensUser70', '11-08-40sUser59', '11-09-20sUser152', '11-06-adultsUser130', '11-09-20sUser156', '11-08-adultsUser78', '11-08-40sUser3', '11-08-20sUser91', '11-08-20sUser50', '10-19-20sUser20', '10-26-teensUser15', '10-26-teensUser120', '11-09-adultsUser19', '11-08-teensUser81', '10-24-40sUser50', '11-09-20sUser165', '10-19-20sUser64', '11-09-teensUser63', '11-09-teensUser154', '10-26-teensUser26', '11-08-teensUser168', '11-08-teensUser31', '10-19-30sUser38', '10-19-adultsUser51', '11-08-20sUser145', '10-19-20sUser115', '10-19-30sUser44', '11-09-teensUser179', '10-19-20sUser21', '11-06-adultsUser10', '11-09-40sUser35', '11-08-teensUser102', '11-08-40sUser36', '10-19-40sUser24', '11-09-adultsUser60', '11-08-teensUser153', '11-08-20sUser29', '11-09-20sUser160', '11-09-20sUser120', '10-19-40sUser20', '10-19-20sUser46', '10-19-adultsUser41', '11-08-20sUser55', '10-24-40sUser36', '11-08-20sUser58', '11-08-40sUser51', '11-06-adultsUser37', '10-19-20sUser65', '11-09-adultsUser94', '10-19-20sUser83', '11-08-teensUser115', '11-09-40sUser27', '11-09-40sUser32', '11-08-teensUser159', '11-08-20sUser87', '11-09-teensUser60', '11-09-20sUser144', '10-24-40sUser45', '11-08-20sUser84', '11-09-teensUser184', '11-09-teensUser117', '11-08-adultsUser117', '10-26-teensUser148', '11-09-teensUser44', '11-09-teensUser30', '10-26-teensUser52', '11-09-adultsUser83', '11-08-20sUser141', '11-08-40sUser23', '11-08-adultsUser5', '11-08-adultsUser87', '10-26-teensUser138', '11-08-40sUser65', '10-19-20sUser140', '11-09-teensUser65', '11-06-adultsUser93', '11-08-40sUser64', '11-08-adultsUser34', '11-09-teensUser114', '11-09-teensUser137', '11-09-teensUser77', '11-08-teensUser98', '11-09-adultsUser59', '10-19-20sUser0', '11-08-teensUser23', '10-19-20sUser149', '11-08-adultsUser123', '11-06-adultsUser45', '11-09-adultsUser52', '10-19-20sUser117', '11-06-adultsUser38', '10-19-30sUser15', '11-08-40sUser72', '10-24-40sUser5', '10-19-20sUser142', '11-09-teensUser181', '10-19-20sUser159', '10-19-40sUser50', '10-26-teensUser100', '11-09-teensUser27', '10-19-adultsUser34', '11-08-20sUser70', '11-09-teensUser204', '10-19-20sUser138', '10-24-40sUser34', '11-09-20sUser129', '11-09-adultsUser29', '11-09-20sUser163', '10-26-teensUser73', '10-19-20sUser111', '11-08-40sUser1', '11-08-40sUser77', '10-19-40sUser47', '11-09-20sUser154', '11-09-teensUser129', '11-08-adultsUser130', '10-26-teensUser93', '11-09-40sUser45', '11-09-40sUser33', '11-08-adultsUser100', '11-08-40sUser25', '10-26-teensUser55', '11-08-40sUser70', '11-09-20sUser153', '11-08-adultsUser86', '11-08-20sUser134', '11-08-adultsUser105', '10-26-teensUser87', '11-08-20sUser88', '11-06-adultsUser92', '11-08-20sUser125', '11-09-adultsUser100', '11-08-40sUser49', '10-24-40sUser3', '10-19-40sUser35', '11-08-adultsUser122', '11-09-20sUser145', '11-09-adultsUser44', '11-09-teensUser176', '11-09-20sUser3', '11-06-adultsUser24', '11-09-20sUser164', '11-06-adultsUser125', '11-08-adultsUser41', '11-08-adultsUser64', '10-24-40sUser49', '11-08-adultsUser77', '11-09-teensUser14', '11-09-teensUser100', '11-09-teensUser99', '11-09-20sUser19', '10-19-30sUser25', '11-08-teensUser141', '11-09-teensUser159', '11-08-40sUser20', '11-08-20sUser13', '10-19-20sUser55', '11-06-adultsUser108', '11-09-adultsUser79', '10-19-adultsUser27', '11-09-teensUser78', '10-24-40sUser57', '11-08-adultsUser95', '11-08-20sUser65', '11-09-20sUser136', '11-09-20sUser180', '10-26-teensUser140', '10-26-teensUser107', '10-26-teensUser99', '11-09-teensUser2', '11-08-20sUser38', '10-24-40sUser19', '11-09-teensUser23', '11-06-adultsUser121', '10-19-adultsUser12', '11-09-adultsUser20', '10-24-40sUser17', '11-08-teensUser17', '11-09-40sUser11', '11-09-adultsUser89', '10-19-30sUser12', '10-19-20sUser136', '10-24-40sUser32', '11-06-adultsUser19', '11-09-20sUser68', '11-08-teensUser61', '10-26-teensUser124', '11-08-teensUser121', '11-06-adultsUser114', '11-09-20sUser114', '11-09-teensUser61', '11-09-20sUser103', '11-08-adultsUser2', '10-19-20sUser157', '11-09-teensUser185', '10-19-40sUser14', '11-06-adultsUser31', '11-08-adultsUser70', '11-08-teensUser160', '11-09-adultsUser61', '11-08-teensUser149', '11-09-adultsUser70', '11-08-40sUser62', '11-09-20sUser90', '11-09-teensUser76', '11-09-40sUser2', '11-09-teensUser34', '11-08-teensUser126', '10-19-40sUser34', '11-09-40sUser18', '11-06-adultsUser113', '11-08-teensUser144', '11-06-adultsUser51', '11-09-teensUser50', '11-08-adultsUser116', '10-19-adultsUser35', '11-09-20sUser150', '10-26-teensUser119', '11-09-teensUser115', '11-09-40sUser52', '11-09-teensUser68', '11-09-adultsUser71', '11-08-teensUser134', '11-09-teensUser119', '11-08-adultsUser104', '11-09-40sUser55', '11-06-adultsUser76', '11-06-adultsUser124', '10-26-teensUser116', '11-08-20sUser106', '10-19-30sUser28', '11-08-20sUser142', '10-26-teensUser154', '10-26-teensUser85', '11-08-20sUser31', '11-08-teensUser50', '11-08-adultsUser91', '11-09-20sUser166', '11-09-20sUser143', '11-09-40sUser36', '10-19-30sUser42', '11-08-adultsUser39', '10-26-teensUser4', '11-09-adultsUser84', '10-19-30sUser39', '10-19-40sUser25', '10-19-30sUser34', '11-09-20sUser125', '11-08-40sUser45', '11-09-20sUser79', '10-24-40sUser0', '11-08-teensUser13', '11-08-teensUser112', '11-08-teensUser152', '11-08-40sUser66', '11-08-teensUser148', '11-09-20sUser178', '11-06-adultsUser117', '11-06-adultsUser79', '11-09-teensUser152', '11-09-40sUser1', '11-09-40sUser19', '11-08-40sUser60', '11-08-20sUser114', '11-08-20sUser69', '11-09-20sUser60', '10-26-teensUser40', '11-08-teensUser32', '11-09-20sUser67', '10-19-20sUser84', '10-19-adultsUser11', '10-26-teensUser113', '11-08-adultsUser66', '11-06-adultsUser78', '11-08-adultsUser109', '10-19-20sUser113', '11-08-teensUser49', '11-09-teensUser90', '11-08-teensUser131', '11-08-teensUser29', '11-09-teensUser24', '11-06-adultsUser135', '11-08-teensUser161', '11-09-teensUser22', '10-19-40sUser55', '11-09-teensUser98', '10-26-teensUser135', '10-26-teensUser69', '10-26-teensUser136', '11-08-adultsUser59', '10-19-20sUser72', '11-06-adultsUser8', '10-19-40sUser27', '11-08-20sUser133', '11-09-teensUser105', '11-08-40sUser67', '11-09-teensUser130', '10-19-20sUser143', '11-08-20sUser15', '11-09-adultsUser78', '10-19-40sUser32', '10-26-teensUser133', '11-08-teensUser11', '11-09-teensUser136', '10-19-30sUser11', '11-08-teensUser171', '10-26-teensUser115', '11-08-40sUser31', '11-09-teensUser57', '11-08-adultsUser119', '10-26-teensUser88', '11-09-adultsUser96', '11-09-teensUser196', '11-09-teensUser51', '10-19-20sUser151', '11-08-teensUser72', '11-08-40sUser52', '11-08-adultsUser98', '10-19-40sUser1', '11-09-20sUser158', '11-08-adultsUser35', '10-19-40sUser28', '11-09-teensUser207', '10-26-teensUser103', '10-19-30sUser18', '11-08-teensUser56', '10-26-teensUser45', '11-08-adultsUser99', '11-06-adultsUser60', '11-08-teensUser89', '11-09-teensUser20', '10-26-teensUser30', '11-08-teensUser52', '11-09-teensUser189', '10-19-adultsUser1', '11-08-adultsUser37', '10-19-20sUser91', '11-09-40sUser53', '11-09-40sUser41', '11-08-teensUser108', '11-09-adultsUser90', '11-09-20sUser149', '11-06-adultsUser69', '11-09-teensUser178', '11-09-40sUser42', '11-09-teensUser156', '11-09-20sUser44', '10-26-teensUser43', '11-09-40sUser9', '11-08-teensUser104', '11-09-teensUser201', '10-19-40sUser53', '11-06-adultsUser49', '10-19-30sUser8', '11-09-20sUser76', '11-06-adultsUser115', '10-26-teensUser80', '11-08-20sUser42', '11-06-adultsUser131', '11-09-adultsUser72', '10-26-teensUser63', '10-24-40sUser52', '11-09-20sUser59', '11-09-teensUser133', '11-09-teensUser193', '11-08-20sUser126', '10-19-30sUser35', '10-19-40sUser42', '10-24-40sUser48', '10-19-40sUser16', '10-24-40sUser11', '10-19-adultsUser57', '11-08-teensUser138', '11-09-teensUser122', '10-19-20sUser108', '10-26-teensUser21', '10-19-20sUser60', '11-09-teensUser167', '11-08-20sUser135', '11-08-teensUser74', '10-19-20sUser128', '11-09-20sUser23', '11-09-40sUser3', '11-09-20sUser101', '10-24-40sUser56', '10-19-40sUser46', '11-08-teensUser27', '11-08-40sUser57', '11-06-adultsUser7', '11-09-adultsUser8', '11-09-teensUser74', '11-09-20sUser162', '10-26-teensUser149', '10-19-20sUser101', '11-08-teensUser25', '10-26-teensUser33', '11-09-adultsUser69', '11-08-teensUser18', '10-19-20sUser114', '11-06-adultsUser99', '11-08-teensUser100', '10-19-20sUser53', '11-09-teensUser183', '11-08-teensUser116', '11-09-teensUser59', '10-19-20sUser134', '11-06-adultsUser107', '10-19-30sUser33', '11-08-teensUser119', '11-08-40sUser27', '10-26-teensUser147', '11-08-adultsUser107', '11-08-teensUser86', '11-06-adultsUser14', '10-19-20sUser164', '11-08-20sUser32', '10-26-teensUser57', '11-08-adultsUser79', '11-09-adultsUser68', '11-08-20sUser131', '10-26-teensUser110', '10-19-30sUser14', '11-09-20sUser132', '11-08-teensUser163', '11-08-adultsUser128', '10-26-teensUser104', '11-08-adultsUser14', '11-09-teensUser91', '11-08-adultsUser113', '11-09-20sUser81', '11-09-teensUser202', '11-08-20sUser152', '10-26-teensUser130', '11-08-teensUser120', '10-19-30sUser37', '10-19-20sUser154', '11-08-20sUser127', '11-09-adultsUser101', '11-09-40sUser26', '11-09-adultsUser39', '11-09-teensUser170', '11-08-20sUser77', '11-09-40sUser0', '11-08-20sUser112', '10-19-30sUser40', '10-19-20sUser152', '10-19-30sUser4', '11-09-20sUser0', '11-09-teensUser88', '10-24-40sUser27', '11-09-40sUser21', '10-19-adultsUser62', '11-08-40sUser39', '11-06-adultsUser112', '11-09-40sUser48', '11-09-40sUser31', '11-08-teensUser122', '10-19-20sUser146', '11-09-teensUser153', '11-09-adultsUser2', '11-09-adultsUser87', '10-19-adultsUser43', '10-26-teensUser129', '11-09-teensUser69', '11-09-20sUser130', '11-08-40sUser24', '11-06-adultsUser116', '11-08-40sUser40', '11-09-teensUser18', '11-09-20sUser155', '11-08-20sUser5', '10-26-teensUser157', '11-08-teensUser14', '11-09-adultsUser7', '11-08-20sUser52', '11-06-adultsUser102', '10-19-adultsUser48', '11-08-teensUser84', '11-09-teensUser175', '11-08-20sUser138', '11-08-20sUser35', '11-08-20sUser121', '10-19-20sUser28', '10-19-adultsUser14', '11-09-teensUser150', '11-09-20sUser72', '10-24-40sUser39', '10-26-teensUser44', '10-19-40sUser51', '11-08-20sUser148', '11-06-adultsUser109', '11-08-adultsUser76', '11-08-teensUser87', '11-08-teensUser157', '11-06-adultsUser95', '11-08-adultsUser96', '10-19-20sUser125', '11-08-40sUser16', '10-26-teensUser38', '11-09-teensUser66', '11-08-20sUser43', '11-09-adultsUser93', '11-08-20sUser18', '11-09-20sUser1', '11-06-adultsUser43', '11-08-40sUser37', '10-19-adultsUser60', '11-08-adultsUser111', '11-09-teensUser58', '11-08-40sUser54', '10-26-teensUser125', '10-19-20sUser12', '11-08-teensUser132', '11-06-adultsUser119', '11-08-adultsUser103', '11-09-40sUser51', '10-19-20sUser145', '10-19-20sUser127', '11-06-adultsUser58', '11-08-adultsUser53', '11-09-20sUser12', '11-09-teensUser48', '11-09-adultsUser43', '11-09-teensUser35', '11-08-teensUser145', '10-24-40sUser23', '11-08-teensUser128', '11-09-20sUser40', '11-06-adultsUser127', '11-06-adultsUser134', '11-09-20sUser42', '11-09-adultsUser48', '11-09-teensUser134', '10-26-teensUser126', '11-09-20sUser157', '11-09-20sUser49', '10-19-40sUser9', '11-09-adultsUser108', '10-26-teensUser27', '11-08-teensUser19', '11-09-teensUser147', '10-26-teensUser95', '11-09-20sUser47', '11-08-20sUser150', '10-24-40sUser13', '11-06-adultsUser128', '10-24-40sUser41', '10-26-teensUser41', '10-19-adultsUser39', '10-19-20sUser135', '11-08-20sUser124', '11-09-adultsUser92', '10-19-20sUser63', '11-08-teensUser105', '10-26-teensUser98', '10-19-40sUser18', '10-26-teensUser91', '11-06-adultsUser59', '10-19-30sUser13', '11-08-teensUser83', '11-09-adultsUser14', '10-19-20sUser147', '11-08-adultsUser75', '11-06-adultsUser96', '10-19-30sUser9', '11-09-20sUser62', '11-08-40sUser53', '11-08-teensUser91', '11-08-40sUser47', '10-19-adultsUser15', '11-06-adultsUser9', '11-08-adultsUser28', '10-24-40sUser31', '11-09-adultsUser106', '10-19-20sUser133', '11-08-teensUser146', '10-19-40sUser41', '10-26-teensUser109', '10-19-40sUser8', '11-08-teensUser28', '11-09-teensUser121', '10-26-teensUser106', '11-09-40sUser40', '11-09-teensUser146', '11-09-adultsUser22', '11-08-teensUser96', '10-26-teensUser78', '11-08-adultsUser50', '10-19-20sUser144', '11-09-20sUser63', '11-09-teensUser203', '11-09-adultsUser58', '10-19-30sUser16', '11-09-teensUser148', '10-24-40sUser40', '10-19-adultsUser5', '11-08-40sUser46', '11-09-20sUser167', '11-09-teensUser64', '11-08-adultsUser21', '11-08-40sUser56', '11-09-adultsUser3', '11-08-teensUser158', '11-08-adultsUser90', '11-09-teensUser140', '11-09-teensUser155', '10-19-20sUser123', '10-19-30sUser22', '11-09-teensUser138', '11-09-teensUser33', '11-08-adultsUser56', '10-26-teensUser122', '11-09-adultsUser1', '11-09-40sUser6', '10-19-30sUser17', '10-24-40sUser10', '11-08-20sUser153', '11-09-adultsUser40', '11-09-teensUser62', '11-08-teensUser174', '10-24-40sUser20', '11-06-adultsUser126', '11-06-adultsUser104', '11-09-teensUser157', '10-19-adultsUser40', '11-09-adultsUser91', '11-08-adultsUser102', '10-26-teensUser71', '11-09-adultsUser97', '10-19-40sUser56', '11-09-adultsUser88', '11-09-teensUser143', '11-09-20sUser82', '11-09-adultsUser36', '11-08-20sUser132', '10-26-teensUser111', '11-08-adultsUser42', '10-24-40sUser46', '11-06-adultsUser1', '11-08-40sUser29', '11-08-teensUser10', '10-19-40sUser21', '11-09-20sUser55', '11-08-teensUser143', '11-09-teensUser96', '11-06-adultsUser75', '11-08-40sUser71', '11-09-teensUser83', '10-19-30sUser19', '11-08-teensUser124', '11-08-adultsUser97', '11-09-teensUser94', '11-08-20sUser21', '10-19-40sUser3', '11-08-40sUser33', '11-08-adultsUser65', '10-19-adultsUser29', '11-08-teensUser147', '11-06-adultsUser5', '11-08-20sUser90', '10-19-40sUser30', '11-06-adultsUser29', '10-19-40sUser23', '10-19-adultsUser17', '11-08-adultsUser72', '11-08-teensUser24', '10-19-adultsUser30', '10-19-20sUser14', '10-19-20sUser6', '11-08-40sUser48', '10-19-adultsUser46', '10-19-20sUser137', '10-24-40sUser38', '10-19-40sUser49', '10-19-20sUser107', '11-08-adultsUser120', '11-09-adultsUser9', '10-19-40sUser44', '10-26-teensUser61', '10-26-teensUser37', '11-08-adultsUser24', '10-26-teensUser89', '11-09-teensUser72', '10-24-40sUser9', '11-09-adultsUser12', '10-19-20sUser77', '11-08-20sUser102', '10-26-teensUser51', '10-19-adultsUser63', '10-26-teensUser59', '11-08-40sUser6', '10-19-40sUser45', '10-24-40sUser42', '10-19-20sUser76', '11-08-teensUser118', '10-26-teensUser31', '10-26-teensUser141', '11-08-adultsUser93', '11-08-20sUser149', '11-06-adultsUser17', '11-09-adultsUser26', '11-09-teensUser177', '10-26-teensUser47', '11-08-40sUser30', '10-19-40sUser58', '11-08-20sUser104', '10-19-30sUser32', '11-06-adultsUser41', '11-08-40sUser9', '11-09-teensUser166', '10-19-adultsUser16', '11-06-adultsUser32', '10-19-20sUser165', '11-08-20sUser10', '11-08-20sUser146', '10-19-20sUser156', '10-26-teensUser132', '11-08-adultsUser40', '10-26-teensUser68', '10-19-40sUser40', '11-09-20sUser168', '11-08-adultsUser135', '10-26-teensUser74', '11-09-teensUser208', '10-19-40sUser4', '10-19-20sUser116', '11-09-teensUser87', '11-09-teensUser3', '10-26-teensUser112', '11-09-20sUser50', '10-24-40sUser21', '11-08-teensUser173', '10-19-30sUser7', '10-19-adultsUser53', '10-26-teensUser53', '11-09-20sUser147', '11-09-adultsUser66', '10-26-teensUser105', '11-09-adultsUser33', '11-09-teensUser55', '11-09-teensUser194', '11-06-adultsUser111', '10-19-20sUser59', '11-08-40sUser55', '11-09-20sUser112', '11-08-adultsUser81', '11-09-20sUser89', '11-08-adultsUser71', '11-09-teensUser132', '11-08-teensUser114', '11-09-teensUser120', '11-08-40sUser76', '11-09-teensUser118', '11-08-teensUser93', '11-08-teensUser155', '11-09-adultsUser56', '10-26-teensUser139', '11-09-teensUser52', '11-09-adultsUser11', '11-09-20sUser38', '11-08-adultsUser3', '11-09-teensUser104', '11-09-teensUser124', '10-19-20sUser139', '10-26-teensUser67', '10-24-40sUser14', '11-08-adultsUser27', '11-08-40sUser75', '11-09-teensUser21', '11-08-adultsUser101', '11-06-adultsUser98', '10-19-30sUser26', '10-19-adultsUser52', '11-09-teensUser139', '10-19-40sUser57', '11-08-adultsUser73', '10-19-adultsUser3', '11-08-adultsUser67', '11-08-adultsUser0', '11-09-20sUser128', '10-19-20sUser131', '10-19-20sUser141', '10-26-teensUser121', '10-26-teensUser14', '11-09-teensUser187', '11-08-teensUser129', '10-26-teensUser150', '10-19-40sUser43', '11-09-teensUser101', '10-19-40sUser31', '11-08-adultsUser29', '11-09-20sUser146', '11-08-40sUser41', '11-08-40sUser21', '10-19-30sUser27', '11-08-20sUser73', '10-26-teensUser8', '11-09-teensUser206', '11-09-teensUser172', '10-19-40sUser2', '10-26-teensUser155', '11-08-teensUser68', '11-09-adultsUser0', '11-09-adultsUser98', '11-09-teensUser200', '11-09-teensUser113', '11-09-40sUser43', '11-06-adultsUser42', '10-19-adultsUser64', '11-08-20sUser122', '10-24-40sUser26', '11-09-teensUser197', '10-24-40sUser1', '10-19-20sUser19', '11-09-teensUser144', '11-08-teensUser33', '11-09-teensUser86', '10-24-40sUser47', '11-08-teensUser101', '10-19-20sUser155', '10-26-teensUser86', '11-09-20sUser141', '10-19-40sUser26', '11-08-adultsUser20', '11-09-40sUser16', '11-08-teensUser34', '10-26-teensUser72', '11-06-adultsUser88', '10-24-40sUser43', '11-08-20sUser66', '11-09-adultsUser13', '11-08-adultsUser68', '11-08-40sUser18', '11-09-teensUser149', '11-06-adultsUser97', '11-06-adultsUser118', '11-08-teensUser130', '11-09-adultsUser49', '10-19-40sUser38', '10-19-20sUser80', '10-19-20sUser167', '11-09-20sUser34', '10-19-40sUser19', '11-09-teensUser205', '11-06-adultsUser53', '11-09-20sUser17', '11-08-adultsUser92', '11-08-20sUser139', '10-26-teensUser54', '11-08-adultsUser114', '11-06-adultsUser110', '10-24-40sUser6', '10-26-teensUser79', '11-09-20sUser8', '10-19-40sUser13', '11-09-teensUser53', '11-09-adultsUser63', '11-09-adultsUser85', '11-06-adultsUser133', '10-19-20sUser2', '11-08-20sUser74', '10-26-teensUser94', '10-26-teensUser137', '11-09-teensUser188', '11-09-teensUser199', '11-09-20sUser53', '10-26-teensUser7', '11-09-40sUser39', '10-19-40sUser6', '11-08-40sUser0', '11-08-teensUser36', '11-08-adultsUser61', '11-09-20sUser65', '11-08-adultsUser80', '11-09-teensUser169', '10-19-20sUser29', '10-26-teensUser146', '11-08-teensUser85', '11-09-20sUser87', '11-09-adultsUser57', '11-09-adultsUser107', '11-06-adultsUser16', '11-08-teensUser22', '10-19-20sUser73', '11-09-adultsUser95', '11-08-teensUser70', '11-08-adultsUser127', '11-09-40sUser34', '11-09-adultsUser74', '10-26-teensUser101', '10-19-20sUser51', '11-08-teensUser154', '11-06-adultsUser70', '10-19-30sUser3', '11-09-teensUser95', '10-19-20sUser95', '11-09-20sUser119', '11-09-20sUser94', '10-19-40sUser29', '11-09-adultsUser80', '10-26-teensUser92', '11-09-adultsUser109', '11-09-20sUser37', '10-19-40sUser0', '11-08-40sUser61', '11-08-40sUser35', '11-08-40sUser69', '11-08-40sUser79', '11-09-teensUser158', '10-19-20sUser7', '11-08-teensUser167', '11-09-teensUser112', '10-19-20sUser27', '10-19-20sUser150', '11-09-adultsUser65', '11-08-teensUser88', '11-06-adultsUser82', '11-08-teensUser69', '10-19-40sUser7', '10-26-teensUser49', '11-09-20sUser159', '11-09-20sUser11', '11-09-teensUser162', '11-08-40sUser13', '10-19-30sUser30', '11-08-40sUser11', '10-26-teensUser118', '10-26-teensUser82', '11-08-40sUser28', '11-09-teensUser182', '10-24-40sUser16', '11-08-teensUser113', '11-09-adultsUser64', '10-19-40sUser12', '11-09-teensUser9', '11-09-40sUser28', '11-06-adultsUser67', '11-08-teensUser58', '11-08-adultsUser132', '11-08-adultsUser136', '10-26-teensUser75', '11-09-20sUser175', '11-08-adultsUser46', '10-26-teensUser131', '11-09-20sUser134', '11-08-20sUser110', '11-09-teensUser46', '10-19-20sUser109', '11-09-teensUser209', '11-09-teensUser12', '11-09-20sUser121', '11-08-teensUser40', '10-26-teensUser22', '11-08-teensUser75', '11-09-teensUser80', '10-19-20sUser168', '10-24-40sUser35', '10-19-adultsUser28', '11-08-20sUser143', '10-19-adultsUser32', '11-09-teensUser103', '10-24-40sUser55', '10-24-40sUser28', '10-26-teensUser58', '11-09-40sUser49', '11-08-teensUser0', '11-09-adultsUser4', '10-19-20sUser153', '11-06-adultsUser89', '11-08-teensUser37', '10-19-40sUser36', '10-24-40sUser18', '11-08-adultsUser63', '10-19-20sUser148', '11-09-teensUser186', '10-26-teensUser156', '11-08-teensUser35', '10-26-teensUser0', '11-08-40sUser32', '10-24-40sUser54', '11-08-adultsUser69', '11-09-teensUser160', '11-09-20sUser177', '11-08-teensUser151', '11-09-20sUser109', '11-09-20sUser172', '10-19-40sUser52', '11-09-adultsUser24', '11-09-20sUser56', '11-08-adultsUser126', '11-09-20sUser31', '11-08-40sUser44', '11-09-20sUser33', '10-19-40sUser11', '11-09-teensUser116', '10-19-adultsUser19', '11-08-teensUser111', '11-09-20sUser123', '10-26-teensUser96', '11-09-teensUser165', '11-08-teensUser106', '11-09-20sUser18', '11-09-20sUser28', '11-09-teensUser11', '11-09-20sUser140', '11-08-40sUser19', '11-09-20sUser127', '11-09-40sUser56', '11-08-adultsUser7', '11-09-20sUser135', '10-19-adultsUser38', '11-08-adultsUser131', '11-09-teensUser145', '11-08-adultsUser31', '10-19-30sUser31', '11-08-teensUser71', '11-08-20sUser54', '11-08-20sUser130', '11-09-20sUser171', '10-26-teensUser25', '11-08-40sUser42', '10-19-30sUser45', '11-08-20sUser44', '11-08-adultsUser8', '10-26-teensUser65', '11-08-teensUser2', '11-09-teensUser17', '11-08-adultsUser17', '11-08-adultsUser134', '11-08-teensUser117', '11-09-adultsUser55', '11-08-20sUser24', '11-06-adultsUser101'}\n"
     ]
    }
   ],
   "source": [
    "# Get all the posts\n",
    "xml_posts = nps_chat.xml_posts(nps_chat.fileids())\n",
    "\n",
    "# Exploration: get list of statements\n",
    "statement_list = [p.text for p in xml_posts if p.get('class') == 'Statement']\n",
    "#print(statement_list)\n",
    "\n",
    "# Get list of 'emotion' posts.  Might need them for the bonus part of the question\n",
    "emoticon_list = [p.text for p in xml_posts if p.get('class') == 'Emotion']\n",
    "#print(emoticon_list)\n",
    "\n",
    "# Get list of usernames, since they need to be excluded\n",
    "user_list = set([p.get(\"user\") for p in xml_posts])\n",
    "print(user_list)"
   ]
  },
  {
   "cell_type": "code",
   "execution_count": 4,
   "metadata": {
    "collapsed": false
   },
   "outputs": [
    {
     "name": "stdout",
     "output_type": "stream",
     "text": [
      "\n",
      "Total number of post words are: 45010\n"
     ]
    }
   ],
   "source": [
    "# Would it be easier to work with the words directly?\n",
    "post_words = nps_chat.words(nps_chat.fileids())\n",
    "print(\"\\nTotal number of post words are:\", len(post_words))"
   ]
  },
  {
   "cell_type": "code",
   "execution_count": 5,
   "metadata": {
    "collapsed": false
   },
   "outputs": [
    {
     "name": "stdout",
     "output_type": "stream",
     "text": [
      "\n",
      "Total number of unique post words are: 5441\n"
     ]
    }
   ],
   "source": [
    "# Get the unique words, lowercased.\n",
    "unique_words = set([w.lower() for w in post_words])\n",
    "print(\"\\nTotal number of unique post words are:\", len(unique_words))"
   ]
  },
  {
   "cell_type": "code",
   "execution_count": 6,
   "metadata": {
    "collapsed": false
   },
   "outputs": [
    {
     "name": "stdout",
     "output_type": "stream",
     "text": [
      "raed: True\n",
      "<3333: False\n",
      "u75: True\n",
      "1234: False\n",
      "11-09-20sUser59: False\n"
     ]
    }
   ],
   "source": [
    "# Trim the set down - include only words that consist of letters and digits, and contain at least one letter\n",
    "import string\n",
    "\n",
    "# Our \"valid word\" checker  \n",
    "# Note that this excludes usernames, since they contain non-alphanumeric characters\n",
    "# So we don't have to use the list of usernames built earlier\n",
    "def is_valid_word(word):\n",
    "    has_letter = False;\n",
    "    for c in word:\n",
    "        if c in string.ascii_letters:\n",
    "            # Word contains at least one letter.\n",
    "            has_letter = True\n",
    "        elif not c in string.digits:\n",
    "            # Word contains a non-alphanumeric character, so it's invalid.\n",
    "            return False;\n",
    "    \n",
    "    # If we reach this point, it's only a valid word if it contains a letter.\n",
    "    return has_letter\n",
    "\n",
    "# Do a quick sanity test of some words\n",
    "test_words = [\"raed\", \"<3333\", \"u75\", \"1234\", \"11-09-20sUser59\"]\n",
    "for tw in test_words:\n",
    "    print(tw + \": \" + str(is_valid_word(tw)))\n"
   ]
  },
  {
   "cell_type": "code",
   "execution_count": 7,
   "metadata": {
    "collapsed": false
   },
   "outputs": [
    {
     "name": "stdout",
     "output_type": "stream",
     "text": [
      "\n",
      "Total number of alphanumeric unique words are: 4865\n",
      "========================================================================================================================\n",
      "['10th', '18st', '1cos', '20s', '2day', '2nd', '2pac', '60s', 'a', 'aaaaaaaaaaaaaaaaa', 'aaahhhh', 'aberdeen', 'abide', 'able', 'abortions', 'abou', 'abourted', 'about', 'above', 'abs', 'accent', 'accept', 'access', 'accident', 'achiever', 'aching', 'acid', 'ack', 'acros', 'across', 'act', 'acting', 'action', 'actually', 'actualy', 'adams', 'added', 'addict', 'addicted', 'address', 'adds', 'adduser', 'addy', 'adjusts', 'admit', 'adopted', 'adoted', 'adreniline', 'ads', 'adults', 'adventure', 'advice', 'advisory', 'ae', 'afe', 'affair', 'affairs', 'affari', 'affects', 'afk', 'after', 'afternoon', 'agaibn', 'again', 'against', 'age', 'ages', 'aggravated', 'ago', 'agree', 'agurlwithbigguns', 'ah', 'ahah', 'ahahah', 'ahahh', 'ahahha', 'ahead', 'ahem', 'ahh', 'ahhah', 'ahhahahaha', 'ahhh', 'ahhhh', 'ahhhhhh', 'ahhhhhhhhhhhhhh', 'ai', 'aiiiiiiiiiiiiiiiiiiiiiiii', 'aiken', 'aim', 'aime', 'aint', 'air', 'aka', 'akdt', 'akon', 'akron', 'akst', 'al', 'alaska', 'albany', 'albert', 'alcohol', 'alert', 'aligator', 'alive', 'all', 'allergies', 'alley', 'allo', 'allow', 'allowed', 'ally', 'almost', 'alo', 'aloha', 'alohaaa', 'alohas', 'alone', 'along', 'alot', 'alotta', 'already', 'alright', 'also', 'altar', 'alternatives', 'alterz', 'always', 'alwys', 'alzheimers', 'am', 'amazing', 'amazingness', 'amen', 'american', 'americans', 'amy', 'an', 'anal', 'and', 'angel', 'animal', 'anithing', 'annoying', 'another', 'ans', 'answer', 'answering', 'answers', 'anti', 'antidepressants', 'anxiety', 'any', 'any1', 'anybody', 'anygirl', 'anyhow', 'anymore', 'anyone', 'anythin', 'anything', 'anytime', 'anyway', 'anyways', 'anyyyyyyyyyyyyyyyyy', 'aok', 'apartment', 'apocalypse', 'apoligize', 'apparently', 'appear', 'appearently', 'appears', 'applaudes', 'apple', 'appleton', 'appologise', 'appologize', 'appreciate', 'april', 'apron', 'aqwesome', 'ar', 'are', 'area', 'arent', 'arggghhh', 'argh', 'arizona', 'ark', 'arkansas', 'arm', 'arms', 'armtnpeat', 'army', 'around', 'arrange', 'arrested', 'arrived', 'arround']\n"
     ]
    }
   ],
   "source": [
    "# Reduce the set of unique words to those that are \"valid\" according to is_valid_word()\n",
    "alphanumeric_unique_words = sorted([w for w in unique_words if is_valid_word(w)])\n",
    "print(\"\\nTotal number of alphanumeric unique words are:\", len(alphanumeric_unique_words))\n",
    "print(\"========================================================================================================================\")\n",
    "print(alphanumeric_unique_words[0:200])"
   ]
  },
  {
   "cell_type": "markdown",
   "metadata": {},
   "source": [
    "**Answer**"
   ]
  },
  {
   "cell_type": "code",
   "execution_count": 8,
   "metadata": {
    "collapsed": false
   },
   "outputs": [
    {
     "name": "stdout",
     "output_type": "stream",
     "text": [
      "\n",
      "Total number of unusual words are:  2291\n",
      "========================================================================================================================\n",
      "['10th', '18st', '1cos', '20s', '2day', '2nd', '2pac', '60s', 'aaaaaaaaaaaaaaaaa', 'aaahhhh', 'abortions', 'abou', 'abourted', 'abs', 'ack', 'acros', 'actualy', 'adams', 'adds', 'adduser', 'adjusts', 'adoted', 'adreniline', 'ads', 'adults', 'afe', 'affairs', 'affari', 'affects', 'afk', 'agaibn', 'ages', 'aggravated', 'agurlwithbigguns', 'ahah', 'ahahah', 'ahahh', 'ahahha', 'ahh', 'ahhah', 'ahhahahaha', 'ahhh', 'ahhhh', 'ahhhhhh', 'ahhhhhhhhhhhhhh', 'aiiiiiiiiiiiiiiiiiiiiiiii', 'aiken', 'aime', 'akdt', 'akon', 'akron', 'akst', 'aligator', 'allergies', 'allo', 'allowed', 'aloha', 'alohaaa', 'alohas', 'alot', 'alotta', 'alternatives', 'alterz', 'alwys', 'alzheimers', 'amazingness', 'americans', 'anithing', 'ans', 'answering', 'answers', 'antidepressants', 'any1', 'anygirl', 'anymore', 'anythin', 'anytime', 'anyyyyyyyyyyyyyyyyy', 'aok', 'apoligize', 'appearently', 'appears', 'applaudes', 'appleton', 'appologise', 'appologize', 'aqwesome', 'arggghhh', 'argh', 'armtnpeat', 'arrested', 'arrived', 'arround', 'asked', 'askin', 'asking', 'asks', 'asl', 'asnwer', 'asses', 'asshole', 'assholes', 'asss', 'assumes', 'aterry', 'atl', 'attempted', 'attracted', 'aussies', 'awesomee', 'awesomes', 'awrighty', 'awsome', 'aww', 'awww', 'awwww', 'awwwwww', 'awwwwwww', 'awwwwwwwwww', 'aynawy', 'az', 'azerbaijan', 'b4', 'baaaaalllllllliiiiiiinnnnnnnnnnn', 'babay', 'babblein', 'babes', 'babies', 'babiess', 'babycakeses', 'bachelorette', 'backatchya', 'backfrontsidewaysandallaroundtheworld', 'backroom', 'bacl', 'bagels', 'bahahahaa', 'bak', 'balad', 'balck', 'ballin', 'balls', 'bandito', 'bandsaw', 'banjoes', 'banned', 'baord', 'barbie', 'barbieee', 'bares', 'barfights', 'barks', 'bbbbbyyyyyyyeeeeeeeee', 'bbiam', 'bbl', 'bbs', 'bc', 'beachhhh', 'beams', 'beans', 'bears', 'beatles', 'beats', 'beattles', 'beckley', 'beeeeehave', 'beeehave', 'bein', 'beleive', 'belongings', 'benz', 'beuty', 'bf', 'bi', 'biatch', 'biebsa', 'bied', 'bigest', 'biiiatch', 'biiiiiitch', 'bikes', 'bio', 'biographys', 'birdgang', 'birfday', 'bishes', 'bitches', 'bitdh', 'bites', 'biyatch', 'bj', 'blankie', 'blazed', 'blech', 'blessings', 'blew', 'bloe', 'blondes', 'bloooooooood', 'bloooooooooood']\n",
      "\n",
      "Percentage of the words used in the web chats were NOT in the word list is: \n",
      "========================================================================================================================\n",
      "47.09146968139774\n"
     ]
    }
   ],
   "source": [
    "# Now find the unusual words\n",
    "unusual_words = []\n",
    "for w in alphanumeric_unique_words:\n",
    "    if not w in en_words:\n",
    "        unusual_words.append(w)\n",
    "print(\"\\nTotal number of unusual words are: \", len(unusual_words))\n",
    "print(\"========================================================================================================================\")\n",
    "print(unusual_words[0:200])\n",
    "\n",
    "# % of the words used in the web chats were NOT in the word list\n",
    "print(\"\\nPercentage of the words used in the web chats were NOT in the word list is: \")\n",
    "print(\"========================================================================================================================\")\n",
    "print(str(100 * len(unusual_words) / len(alphanumeric_unique_words)))"
   ]
  },
  {
   "cell_type": "markdown",
   "metadata": {},
   "source": [
    "################################################################################################################################\n",
    "#  Bonus: Emoticons                                                                                                   #\n",
    "################################################################################################################################"
   ]
  },
  {
   "cell_type": "code",
   "execution_count": 9,
   "metadata": {
    "collapsed": false
   },
   "outputs": [
    {
     "name": "stdout",
     "output_type": "stream",
     "text": [
      "\n",
      " Total number of potential emoticons are : 90\n",
      "========================================================================================================================\n",
      "{'>.>', '>.>->', \"?'\", \"='s\", '; ..', ')?', '(((((..', ':.', '\"?', '<~~~', ';)', '..(..', '(.', \"<3's\", ':]', \"@-,'~\", ':-)', '!!...', ':o *', '^_^', '=[', '=(', '.)', '=/', '<----------', '!.', '-...)...-', '!!!.', '??!!', '-(', '.;)', '<-', '??!?!??!', '!??', ':-(', 'o/~', '!!!!....', \"'.\", '<--', '?!?!', '<,', '<<<<,', '&^', '-_-', \"@..3-,'~.\", '<----', '?!?!?', '\"...', '>_>', ':/', '<---', '?..', '=)', '(__i__)', ';-(', '.:', '@$$', '!!!!!!.', '>?', '!!.', '!...', '?!', '=]', '?....', ':)', '-->', '~!', '<<<<<<,', ':@', ':):):)', '.).', ':-o', '?.', ':(', '!=', ';]', '??@', ']:)', '+*+*+*+*', '.(.', '!???', '!?', ':|', '--------->', '=-\\\\', '>:->', ':-@', ';-)', '!!!!!.', '(*&(^'}\n"
     ]
    }
   ],
   "source": [
    "# Start by finding all words that are only punctuation, possibly with only 1 letter or digit\n",
    "# Words that consist of a single, repeated punctuation character are not considered to be potential emoticons\n",
    "def is_potential_emoticon(word):\n",
    "    has_letter = False\n",
    "    has_digit = False\n",
    "    punctuation = []\n",
    "    \n",
    "    for c in word:\n",
    "        if c in string.ascii_letters:\n",
    "            if has_letter:\n",
    "                # There's already one letter, can't have another.\n",
    "                return False\n",
    "            has_letter = True\n",
    "        elif c in string.digits:\n",
    "            if has_digit:\n",
    "                # There's already one digit, can't have another.\n",
    "                return False\n",
    "            has_digit = True\n",
    "        elif c in string.punctuation:\n",
    "            punctuation.append(c)\n",
    "    \n",
    "    # It's a potential emoticon if it contained at least 2 different punctuation characters\n",
    "    return (len(set(punctuation)) > 1)\n",
    "\n",
    "potential_emoticons = set([w for w in unique_words if is_potential_emoticon(w)])\n",
    "\n",
    "print(\"\\n Total number of potential emoticons are :\", len(potential_emoticons))\n",
    "print(\"========================================================================================================================\")\n",
    "print(potential_emoticons)"
   ]
  },
  {
   "cell_type": "code",
   "execution_count": 10,
   "metadata": {
    "collapsed": false
   },
   "outputs": [
    {
     "name": "stdout",
     "output_type": "stream",
     "text": [
      "\n",
      "All potential emoticon frequencies are: \n",
      "========================================================================================================================\n",
      "{'\"...': 1, '>.>': 1, '>_>': 1, ':/': 3, '<---': 6, '=/': 3, '?..': 2, '~!': 1, \"?'\": 1, '; ..': 9, ')?': 1, '(((((..': 6, ':.': 17, ';-(': 1, '?!': 3, '\"?': 2, '<~~~': 1, ';)': 29, '@$$': 1, '!!!!!!.': 1, '>.>->': 1, '(.': 5, '(__I__)': 1, \"<3's\": 1, '!!.': 1, ':]': 1, '!...': 1, \"@-,'~\": 1, ':-)': 27, '!!...': 2, ':o *': 1, '^_^': 3, '=]': 2, '=[': 1, '=(': 6, '!.': 17, '.)': 5, '..(..': 5, '!???': 1, '-->': 2, '<<<<<<,': 1, ':@': 1, '<----------': 1, ':):):)': 1, '.).': 3, ':-o': 11, '-...)...-': 5, '?.': 3, '!!!.': 2, \"='s\": 1, ':(': 9, '!=': 1, ';]': 1, '??@': 1, ']:)': 1, '=)': 9, '-(': 1, '.;)': 1, '+*+*+*+*': 1, '.(.': 3, '<-': 1, '??!?!??!': 1, '!??': 1, ':-(': 4, '!?': 2, 'o/~': 4, ':|': 2, '--------->': 1, '&^': 1, '!!!!....': 1, '!!!!!.': 1, \"'.\": 1, '=-\\\\': 1, '<--': 3, '?!?!': 2, '??!!': 2, '<,': 1, '<<<<,': 1, '?....': 1, '>:->': 2, '-_-': 1, ':)': 101, \"@..3-,'~.\": 1, '(*&(^': 1, '.:': 2, ':-@': 4, ';-)': 20, '<----': 2, '?!?!?': 2, '>?': 1}\n"
     ]
    }
   ],
   "source": [
    "# Let's assume that a genuine emoticon would appear more than once, i.e. be in common usage\n",
    "potential_emoticon_frequencies = {}\n",
    "for w in post_words:\n",
    "    if is_potential_emoticon(w):\n",
    "        if w in potential_emoticon_frequencies:\n",
    "            potential_emoticon_frequencies[w] = potential_emoticon_frequencies[w] + 1\n",
    "        else:\n",
    "            potential_emoticon_frequencies[w] = 1\n",
    "print(\"\\nAll potential emoticon frequencies are: \")\n",
    "print(\"========================================================================================================================\")\n",
    "print(potential_emoticon_frequencies)"
   ]
  },
  {
   "cell_type": "code",
   "execution_count": 11,
   "metadata": {
    "collapsed": false
   },
   "outputs": [
    {
     "name": "stdout",
     "output_type": "stream",
     "text": [
      "\n",
      "All potential emoticon which occur more than once are:  42\n",
      "========================================================================================================================\n",
      "[':)', ';)', ':-)', ';-)', ':.', '!.', ':-o', '; ..', ':(', '=)', '<---', '(((((..', '=(', '(.', '.)', '..(..', '-...)...-', ':-(', 'o/~', ':-@', ':/', '=/', '?!', '^_^', '.).', '?.', '.(.', '<--', '?..', '\"?', '!!...', '=]', '-->', '!!!.', '!?', ':|', '?!?!', '??!!', '>:->', '.:', '<----', '?!?!?']\n"
     ]
    }
   ],
   "source": [
    "# Sort the potential emoticons by frequency\n",
    "sorted_emoticon_frequencies = sorted(potential_emoticon_frequencies,\n",
    "                                     key=lambda item : potential_emoticon_frequencies[item], \n",
    "                                     reverse=True)\n",
    "\n",
    "\n",
    "# Remove the potential emoticons that only occur once\n",
    "potential_emoticons = [e for e in sorted_emoticon_frequencies if potential_emoticon_frequencies[e] > 1]\n",
    "print(\"\\nAll potential emoticon which occur more than once are: \", len(potential_emoticons))\n",
    "print(\"========================================================================================================================\")\n",
    "print(potential_emoticons)"
   ]
  },
  {
   "cell_type": "code",
   "execution_count": null,
   "metadata": {
    "collapsed": true
   },
   "outputs": [],
   "source": []
  }
 ],
 "metadata": {
  "anaconda-cloud": {},
  "kernelspec": {
   "display_name": "Python [conda root]",
   "language": "python",
   "name": "conda-root-py"
  },
  "language_info": {
   "codemirror_mode": {
    "name": "ipython",
    "version": 3
   },
   "file_extension": ".py",
   "mimetype": "text/x-python",
   "name": "python",
   "nbconvert_exporter": "python",
   "pygments_lexer": "ipython3",
   "version": "3.5.2"
  }
 },
 "nbformat": 4,
 "nbformat_minor": 1
}
