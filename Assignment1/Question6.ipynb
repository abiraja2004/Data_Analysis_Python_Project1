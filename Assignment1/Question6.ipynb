{
 "cells": [
  {
   "cell_type": "markdown",
   "metadata": {},
   "source": [
    "################################################################################################################################\n",
    "#                Assignment1: Author-Vaishali Lambe, NUID-001286444                       #\n",
    "################################################################################################################################\n",
    "**Question 6:**\n",
    "\n",
    "* Under Inaugural Address package\n",
    "* For every president, find out how many unique words they used in speech. \n",
    "* We will just assume that President Bush means one person (technically it is incorrect but we will ignore it)\n",
    "\n",
    "################################################################################################################################"
   ]
  },
  {
   "cell_type": "code",
   "execution_count": 1,
   "metadata": {
    "collapsed": false
   },
   "outputs": [
    {
     "data": {
      "text/plain": [
       "['1789-Washington.txt',\n",
       " '1793-Washington.txt',\n",
       " '1797-Adams.txt',\n",
       " '1801-Jefferson.txt',\n",
       " '1805-Jefferson.txt',\n",
       " '1809-Madison.txt',\n",
       " '1813-Madison.txt',\n",
       " '1817-Monroe.txt',\n",
       " '1821-Monroe.txt',\n",
       " '1825-Adams.txt',\n",
       " '1829-Jackson.txt',\n",
       " '1833-Jackson.txt',\n",
       " '1837-VanBuren.txt',\n",
       " '1841-Harrison.txt',\n",
       " '1845-Polk.txt',\n",
       " '1849-Taylor.txt',\n",
       " '1853-Pierce.txt',\n",
       " '1857-Buchanan.txt',\n",
       " '1861-Lincoln.txt',\n",
       " '1865-Lincoln.txt',\n",
       " '1869-Grant.txt',\n",
       " '1873-Grant.txt',\n",
       " '1877-Hayes.txt',\n",
       " '1881-Garfield.txt',\n",
       " '1885-Cleveland.txt',\n",
       " '1889-Harrison.txt',\n",
       " '1893-Cleveland.txt',\n",
       " '1897-McKinley.txt',\n",
       " '1901-McKinley.txt',\n",
       " '1905-Roosevelt.txt',\n",
       " '1909-Taft.txt',\n",
       " '1913-Wilson.txt',\n",
       " '1917-Wilson.txt',\n",
       " '1921-Harding.txt',\n",
       " '1925-Coolidge.txt',\n",
       " '1929-Hoover.txt',\n",
       " '1933-Roosevelt.txt',\n",
       " '1937-Roosevelt.txt',\n",
       " '1941-Roosevelt.txt',\n",
       " '1945-Roosevelt.txt',\n",
       " '1949-Truman.txt',\n",
       " '1953-Eisenhower.txt',\n",
       " '1957-Eisenhower.txt',\n",
       " '1961-Kennedy.txt',\n",
       " '1965-Johnson.txt',\n",
       " '1969-Nixon.txt',\n",
       " '1973-Nixon.txt',\n",
       " '1977-Carter.txt',\n",
       " '1981-Reagan.txt',\n",
       " '1985-Reagan.txt',\n",
       " '1989-Bush.txt',\n",
       " '1993-Clinton.txt',\n",
       " '1997-Clinton.txt',\n",
       " '2001-Bush.txt',\n",
       " '2005-Bush.txt',\n",
       " '2009-Obama.txt']"
      ]
     },
     "execution_count": 1,
     "metadata": {},
     "output_type": "execute_result"
    }
   ],
   "source": [
    "# Import the Inaugural Address package and look at the files\n",
    "from nltk.corpus import inaugural\n",
    "\n",
    "# Display all files from inaugural\n",
    "inaugural.fileids()"
   ]
  },
  {
   "cell_type": "code",
   "execution_count": 2,
   "metadata": {
    "collapsed": false
   },
   "outputs": [
    {
     "name": "stdout",
     "output_type": "stream",
     "text": [
      "\n",
      "All president names are: \n",
      "========================================================================================================================\n",
      "['Adams', 'Buchanan', 'Bush', 'Carter', 'Cleveland', 'Clinton', 'Coolidge', 'Eisenhower', 'Garfield', 'Grant', 'Harding', 'Harrison', 'Hayes', 'Hoover', 'Jackson', 'Jefferson', 'Johnson', 'Kennedy', 'Lincoln', 'Madison', 'McKinley', 'Monroe', 'Nixon', 'Obama', 'Pierce', 'Polk', 'Reagan', 'Roosevelt', 'Taft', 'Taylor', 'Truman', 'VanBuren', 'Washington', 'Wilson']\n"
     ]
    }
   ],
   "source": [
    "# Create the list of Presidents from the filenames\n",
    "# The name selection is slightly fragile, but will do for now\n",
    "unique_presidents = set([f[5:][:-4] for f in inaugural.fileids()])\n",
    "\n",
    "# Sort and display them\n",
    "print(\"\\nAll president names are: \")\n",
    "print(\"========================================================================================================================\")\n",
    "print(sorted(unique_presidents))"
   ]
  },
  {
   "cell_type": "code",
   "execution_count": 3,
   "metadata": {
    "collapsed": false
   },
   "outputs": [
    {
     "name": "stdout",
     "output_type": "stream",
     "text": [
      "{'experience', 'republicanism', 'great', 'rather', 'reestablishment', 'returning', 'productive', 'contracted', 'raised', 'expensive', 'rights', 'wrong', 'treatment', 'feeling', 'these', 'restored', 'will', 'carry', 'rebellion', 'birth', 'own', 'opinion', 'say', 'advance', 'we', 'all', 'one', 'capacity', 'asked', 'approached', 'satisfaction', 'brought', 'conscientious', 'at', 'peculiar', 'again', 'preparing', 'other', 'vindication', 'probably', 'soon', 'determined', 'best', 'suffrages', 'representatives', 'sentiment', 'troops', 'maintaining', 'compelled', 'anxiety', 'agitate', 'firing', 'leading', 'just', 'general', 'done', 'be', 'place', 'continent', 'reason', 'tried', 'young', 'events', 'consummation', 'their', 'territory', 'credit', 'execution', 'gratefully', 'industrial', 'union', 'nations', 'pay', 'provided', 'respect', 'can', 'toward', 'he', 'times', 'former', 'class', 'them', 'countrymen', 'distant', 'untrammeled', 'his', 'happy', 'others', 'securing', 'persons', 'but', 'bonds', 'trade', 'govern', 'dollar', 'governments', 'army', 'always', 'civil', 'standard', 'government', 'upon', 'men', 'travels', 'disregard', 'hence', 'proper', 'danger', 'responsibilities', 'subjects', 'feasibility', 'disbursed', 'precious', 'geographical', 'acquaintance', 'grown', 'close', 'possible', 'steam', 'strife', 'industries', 'wars', 'concerned', 'a', 'luxuries', 'approval', 'serve', 'notwithstanding', 'also', 'was', 'find', 'afford', 'equitable', 'longer', 'chosen', 'must', 'committed', 'aborigines', 'him', 'campaign', 'ten', 'schools', 'bearing', 'posterity', 'design', 'placed', 'between', 'box', 'excluded', 'president', 'according', 'accomplished', 'important', 'remuneration', 'any', 'past', 'purposes', 'threatening', 'never', 'only', 'commanding', 'struggle', 'payment', 'depart', 'legislation', 'settled', 'elevation', 'preceding', 'feel', 'honor', 'slave', 'event', 'changed', 'humane', 'desire', 'benign', 'unlock', 'that', 'more', 'interests', 'speaking', 'existed', 'producer', 'communicating', 'hope', 'chief', 'act', 'to', 'fair', 'circumstances', 'maintenance', 'carrying', 'meet', 'free', 'appoint', 'engaged', 'useful', 'least', 'armies', 'compared', 'for', 'aided', 'less', 'future', 'existence', 'sectional', 'interest', 'commerce', 'years', 'subject', 'history', 'duties', 'progress', 'necessary', 'world', 'though', 'doing', 'power', 'attained', 'ask', 'this', 'almost', 'against', 'entertain', 'prejudice', 'hold', 'friendly', 'neighbors', 'individuals', 'wicked', 'executed', 'looks', 'execute', 'contract', 'desirable', 'from', 'present', 'person', 'strict', 'greater', 'fort', 'interposing', 'useless', 'age', 'contracting', 'poverty', 'portion', 'year', 'otherwise', 'contingency', 'among', 'plan', 'new', 'looking', 'thought', 'in', 'understood', 'recommend', 'spirit', 'almighty', 'lenient', 'each', 'here', 'values', 'citizen', 'agitating', 'enforcement', 'forbearance', 'limits', 'bring', 'far', 'labor', 'forward', 'communication', 'unsought', 'return', 'opposed', 'without', 'seems', 'matter', 'accepted', 'constitutional', 'ends', 'inspire', 'strengthening', 'no', 'ago', 'throughout', 'rules', 'moment', 'force', 'permanently', 'defeat', 'federal', 'fixed', 'render', 'questions', 'considered', 'nor', 'constitutionally', 'receive', 'conduct', 'and', 'pride', 'united', 'laws', 'divided', 'remembering', 'then', 'bestowed', 'consciences', 'exercise', 'verdict', 'let', 'restore', 'maintain', 'command', 'inflicted', 'colored', 'reflection', 'amendment', 'resting', 'equal', 'standing', 'precedent', 'imports', 'meeting', 'recovered', 'support', 'restoration', 'avail', 'part', 'emerge', 'ocean', 'faithful', 'april', 'faith', 'bad', 'second', 'overwhelming', 'hate', 'ought', 'theory', 'directed', 'veto', 'endeavor', 'par', 'conscious', 'reach', 'than', 'better', 'control', 'manufacturing', 'detriment', 'wherever', 'dealings', 'jeopardized', 'tending', 'as', 'eventful', 'living', 'policy', 'resumed', 'arts', 'acknowledge', 'good', 'favor', 'strong', 'value', 'pursuing', 'last', 'effects', 'slander', 'basis', 'moral', 'very', 'twenty', 'secure', 'access', 'greatest', 'available', 'commence', 'telegraph', 'stringent', 'faithfully', 'none', 'assured', 'many', 'deal', 'enable', 'there', 'since', 'am', 'conferred', 'becoming', 'behalf', 'retrenchment', 'rehabilitated', 'different', 'unless', 'long', 'god', 'civilized', 'first', 'the', 'properly', 'presidential', 'did', 'accountability', 'treasury', 'go', 'construction', 'equality', 'having', 'themselves', 'ability', 'payable', 'fill', 'things', 'have', 'repeal', 'stipulated', 'happily', 'abuses', 'increase', 'sumter', 'come', 'perform', 'call', 'strength', 'if', 'locked', 'common', 'peace', 'affairs', 'why', 'pursuits', 'an', 'tends', 'prudent', 'stand', 'on', 'advisable', 'thirteen', 'recommendations', 'principal', 'religious', 'land', 'protect', 'time', 'guiding', 'regulating', 'extermination', 'came', 'reformation', 'services', 'leave', 'before', 'influence', 'indian', 'nation', 'admission', 'received', 'whilst', 'easier', 'study', 'doubt', 'security', 'fifteenth', 'rule', 'maintained', 'measures', 'true', 'property', 'channels', 'cementing', 'prosperity', 'demanding', 'which', 'balance', 'compare', 'lately', 'added', 'either', 'changes', 'had', 'apprehension', 'made', 'santo', 'assemblage', 'use', 'alike', 'debtor', 'civilization', 'demoralizing', 'elected', 'would', 'member', 'advantages', 'us', 'collection', 'maker', 'enforce', 'efforts', 'by', 'earnest', 'citizens', 'prescribed', 'fellow', 'status', 'follow', 'requires', 'pursued', 'navies', 'paid', 'paying', 'what', 'called', 'given', 'i', 'weakest', 'native', 'develop', 'secures', 'star', 'collect', 'extreme', 'established', 'rapid', 'late', 'well', 'wonted', 'position', 'therein', 'gift', 'possessed', 'required', 'believe', 'account', 'administrations', 'oppose', 'acquisition', 'are', 'congress', 'legislated', 'teaching', 'abuse', 'political', 'material', 'citizenship', 'harmony', 'aid', 'appointment', 'into', 'join', 'views', 'do', 'prostrate', 'patient', 'seemed', 'through', 'direction', 'earth', 'scarcely', 'however', 'not', 'economically', 'trusted', 'market', 'promise', 'when', 'promotion', 'day', 'oath', 'accounted', 'while', 'ultimately', 'fear', 'is', 'rulers', 'ultimate', 'weakened', 'exports', 'resumes', 'sections', 'war', 'object', 'debts', 'further', 'transit', 'collected', 'question', 'number', 'under', 'give', 'therefore', 'careful', 'suffrage', 'who', 'education', 'consumed', 'same', 'relations', 'method', 'exercised', 'four', 'taken', 'floats', 'me', 'currency', 'repudiator', 'emerged', 'could', 'firm', 'whether', 'service', 'another', 'term', 'payments', 'five', 'ever', 'abiding', 'now', 'or', 'debt', 'likely', 'home', 'know', 'riches', 'administration', 'does', 'department', 'article', 'domingo', 'resolved', 'about', 'acquiesced', 'fully', 'like', 'yet', 'share', 'lay', 'accept', 'course', 'they', 'old', 'sterile', 'ratification', 'sort', 'favorably', 'shall', 'every', 'key', 'settlement', 'condition', 'sure', 'trust', 'how', 'revenues', 'deserving', 'conviction', 'view', 'executive', 'methods', 'state', 'privileges', 'held', 'has', 'equaled', 'metals', 'farthing', 's', 'become', 'public', 'practicable', 'highest', 'local', 'prayers', 'diminish', 'destroyed', 'with', 'man', 'society', 'individual', 'chance', 'states', 'national', 'law', 'entertained', 'correct', 'respite', 'adopted', 'express', 'european', 'calculate', 'corrected', 'our', 'up', 'indians', 'might', 'assessed', 'think', 'continued', 'of', 'calmly', 'rejected', 'should', 'anything', 'regard', 'revengeful', 'navy', 'providence', 'counsels', 'fare', 'business', 'insure', 'extension', 'correction', 'tendered', 'promotions', 'were', 'those', 'indebtedness', 'mind', 'within', 'parts', 'growing', 'mental', 'wise', 'effect', 'regulate', 'together', 'precisely', 'effective', 'except', 'expenditure', 'released', 'revenue', 'over', 'reservation', 'internal', 'privilege', 'conclusion', 'may', 'destined', 'next', 'encouraged', 'west', 'original', 'products', 'beg', 'proposition', 'my', 'such', 'urge', 'gold', 'seeking', 'it', 'people', 'revolution', 'obligation', 'encouragement', 'office', 'candidacy', 'foreign', 'large', 'asking', 'replace', 'effort', 'beginning', 'conformity', 'determination', 'flag', 'forging', 'been', 'your', 'representing', 'constitution', 'specie', 'social', 'occupants', 'facilities', 'end', 'entirely', 'republic', 'worth', 'section', 'so', 'expressly', 'obnoxious', 'divisions', 'mountains', 'country', 'ease', 'rebuilt', 'cheap', 'even', 'performed', 'routes', 'began', 'out', 'language', 'contiguous', 'three', 'abeyance', 'its', 'superiority', 'duty', 'judgment', 'make', 'whole', 'influences'}\n"
     ]
    }
   ],
   "source": [
    "# Create a function that returns the list of unique words used in a President's inaugural address(es)\n",
    "def unique_words_for_president(name):\n",
    "    files = [f for f in inaugural.fileids() if name in f]\n",
    "    # print(files)\n",
    "    unique_words = set([w.lower() for w in inaugural.words(files) if w.isalpha()])\n",
    "    return unique_words\n",
    "\n",
    "# Test the function for president Grant\n",
    "print(unique_words_for_president(\"Grant\"))"
   ]
  },
  {
   "cell_type": "code",
   "execution_count": 4,
   "metadata": {
    "collapsed": false
   },
   "outputs": [
    {
     "name": "stdout",
     "output_type": "stream",
     "text": [
      "[{'Unique Words': 2538, 'Name': 'Harrison'}, {'Unique Words': 1675, 'Name': 'Monroe'}, {'Unique Words': 1598, 'Name': 'Roosevelt'}, {'Unique Words': 1588, 'Name': 'McKinley'}, {'Unique Words': 1471, 'Name': 'Bush'}, {'Unique Words': 1439, 'Name': 'Adams'}, {'Unique Words': 1372, 'Name': 'Taft'}, {'Unique Words': 1352, 'Name': 'Reagan'}, {'Unique Words': 1256, 'Name': 'Polk'}, {'Unique Words': 1252, 'Name': 'VanBuren'}, {'Unique Words': 1207, 'Name': 'Jefferson'}, {'Unique Words': 1174, 'Name': 'Eisenhower'}, {'Unique Words': 1173, 'Name': 'Lincoln'}, {'Unique Words': 1166, 'Name': 'Cleveland'}, {'Unique Words': 1159, 'Name': 'Coolidge'}, {'Unique Words': 1117, 'Name': 'Harding'}, {'Unique Words': 1114, 'Name': 'Pierce'}, {'Unique Words': 1052, 'Name': 'Clinton'}, {'Unique Words': 992, 'Name': 'Hoover'}, {'Unique Words': 976, 'Name': 'Nixon'}, {'Unique Words': 965, 'Name': 'Garfield'}, {'Unique Words': 948, 'Name': 'Wilson'}, {'Unique Words': 890, 'Name': 'Buchanan'}, {'Unique Words': 889, 'Name': 'Obama'}, {'Unique Words': 864, 'Name': 'Madison'}, {'Unique Words': 812, 'Name': 'Grant'}, {'Unique Words': 807, 'Name': 'Jackson'}, {'Unique Words': 798, 'Name': 'Hayes'}, {'Unique Words': 739, 'Name': 'Truman'}, {'Unique Words': 625, 'Name': 'Washington'}, {'Unique Words': 532, 'Name': 'Kennedy'}, {'Unique Words': 524, 'Name': 'Johnson'}, {'Unique Words': 490, 'Name': 'Carter'}, {'Unique Words': 481, 'Name': 'Taylor'}]\n"
     ]
    }
   ],
   "source": [
    "# Now pass each President into our function\n",
    "president_unique_words_list = []\n",
    "for name in unique_presidents:\n",
    "    unique_words = unique_words_for_president(name)\n",
    "    president_unique_words_list.append({\"Name\":name,\"Unique Words\":len(unique_words)})\n",
    "\n",
    "# Now sort the number of unique words by each President in descending order.\n",
    "sorted_presidential_words = sorted(president_unique_words_list, key=lambda item : item[\"Unique Words\"], reverse=True)\n",
    "print(sorted_presidential_words)"
   ]
  },
  {
   "cell_type": "markdown",
   "metadata": {},
   "source": [
    "**Answer**"
   ]
  },
  {
   "cell_type": "code",
   "execution_count": 5,
   "metadata": {
    "collapsed": false
   },
   "outputs": [
    {
     "name": "stdout",
     "output_type": "stream",
     "text": [
      "\n",
      "Number of unique words in Presidential Inaugural Address(es) are:\n",
      "========================================================================================================================\n",
      "Harrison: 2538\n",
      "Monroe: 1675\n",
      "Roosevelt: 1598\n",
      "McKinley: 1588\n",
      "Bush: 1471\n",
      "Adams: 1439\n",
      "Taft: 1372\n",
      "Reagan: 1352\n",
      "Polk: 1256\n",
      "VanBuren: 1252\n",
      "Jefferson: 1207\n",
      "Eisenhower: 1174\n",
      "Lincoln: 1173\n",
      "Cleveland: 1166\n",
      "Coolidge: 1159\n",
      "Harding: 1117\n",
      "Pierce: 1114\n",
      "Clinton: 1052\n",
      "Hoover: 992\n",
      "Nixon: 976\n",
      "Garfield: 965\n",
      "Wilson: 948\n",
      "Buchanan: 890\n",
      "Obama: 889\n",
      "Madison: 864\n",
      "Grant: 812\n",
      "Jackson: 807\n",
      "Hayes: 798\n",
      "Truman: 739\n",
      "Washington: 625\n",
      "Kennedy: 532\n",
      "Johnson: 524\n",
      "Carter: 490\n",
      "Taylor: 481\n"
     ]
    }
   ],
   "source": [
    "print(\"\\nNumber of unique words in Presidential Inaugural Address(es) are:\")\n",
    "print(\"========================================================================================================================\")\n",
    "for item in sorted_presidential_words:\n",
    "    print(item[\"Name\"] + \": \" + str(item[\"Unique Words\"]))"
   ]
  },
  {
   "cell_type": "code",
   "execution_count": null,
   "metadata": {
    "collapsed": true
   },
   "outputs": [],
   "source": []
  }
 ],
 "metadata": {
  "anaconda-cloud": {},
  "kernelspec": {
   "display_name": "Python [conda root]",
   "language": "python",
   "name": "conda-root-py"
  },
  "language_info": {
   "codemirror_mode": {
    "name": "ipython",
    "version": 3
   },
   "file_extension": ".py",
   "mimetype": "text/x-python",
   "name": "python",
   "nbconvert_exporter": "python",
   "pygments_lexer": "ipython3",
   "version": "3.5.2"
  }
 },
 "nbformat": 4,
 "nbformat_minor": 1
}
