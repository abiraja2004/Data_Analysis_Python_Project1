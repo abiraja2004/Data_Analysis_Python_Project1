{
 "cells": [
  {
   "cell_type": "markdown",
   "metadata": {},
   "source": [
    "################################################################################################################################\n",
    "#                Assignment1: Author-Vaishali Lambe, NUID-001286444                       #\n",
    "################################################################################################################################\n",
    "**Question 7:**\n",
    "\n",
    "* Use Name corpus, calculate the probability of a name being of a male or female base on the last character(s) of name.\n",
    "* Sample steps:\n",
    "* For char ‘a’:\n",
    "\ttotal_names = sum(names ending with ‘a’)\n",
    "\tmale_names = sum(male names ending with ‘a’)\n",
    "\tfemale_names = sum(female names ending with ‘a’)\n",
    "\tProbability of name being male = 100 * male_names / total_names\n",
    "* Do this for all characters. \n",
    "* Output must come with proper title (e.g. [a] male: 25%, female: 60%)\n",
    "\n",
    "################################################################################################################################"
   ]
  },
  {
   "cell_type": "code",
   "execution_count": 1,
   "metadata": {
    "collapsed": false
   },
   "outputs": [
    {
     "name": "stdout",
     "output_type": "stream",
     "text": [
      "['female.txt', 'male.txt']\n"
     ]
    }
   ],
   "source": [
    "# Import the corpus and look at the files\n",
    "from nltk.corpus import names\n",
    "\n",
    "# Display list of files\n",
    "print(names.fileids())"
   ]
  },
  {
   "cell_type": "code",
   "execution_count": 2,
   "metadata": {
    "collapsed": false
   },
   "outputs": [
    {
     "name": "stdout",
     "output_type": "stream",
     "text": [
      "Abagael\n",
      "Abagail\n",
      "Abbe\n",
      "Abbey\n",
      "Abbi\n",
      "Abbie\n",
      "Abby\n",
      "Abigael\n",
      "Abigail\n",
      "Abigale\n",
      "Abra\n",
      "Acacia\n",
      "Ada\n",
      "Adah\n",
      "Adaline\n",
      "Adar\n",
      "['Abagael', 'Abagail', 'Abbe', 'Abbey', 'Abbi', 'Abbie', 'Abby', 'Abigael', 'Abigail', 'Abigale', 'Abra', 'Acacia', 'Ada', 'Adah', 'Adaline', 'Adara', 'Addie', 'Addis', 'Adel', 'Adela', 'Adelaide', 'Adele', 'Adelice', 'Adelina', 'Adelind', 'Adeline', 'Adella', 'Adelle', 'Adena', 'Adey', 'Adi', 'Adiana', 'Adina', 'Adora', 'Adore', 'Adoree', 'Adorne', 'Adrea', 'Adria', 'Adriaens', 'Adrian', 'Adriana', 'Adriane', 'Adrianna', 'Adrianne', 'Adrien', 'Adriena', 'Adrienne', 'Aeriel', 'Aeriela']\n"
     ]
    }
   ],
   "source": [
    "# Exploration: look at the structure of these files\n",
    "print(names.raw('female.txt')[0:100])\n",
    "print(names.words('female.txt')[0:50])"
   ]
  },
  {
   "cell_type": "code",
   "execution_count": 3,
   "metadata": {
    "collapsed": false
   },
   "outputs": [
    {
     "name": "stdout",
     "output_type": "stream",
     "text": [
      "['Aamir', 'Aaron', 'Abagael', 'Abagail', 'Abbe', 'Abbey', 'Abbey', 'Abbi', 'Abbie', 'Abbie', 'Abbot', 'Abbott', 'Abby', 'Abby', 'Abdel', 'Abdul', 'Abdulkarim', 'Abdullah', 'Abe', 'Abel', 'Abelard', 'Abigael', 'Abigail', 'Abigale', 'Abner', 'Abra', 'Abraham', 'Abram', 'Acacia', 'Ace', 'Ada', 'Adah', 'Adair', 'Adaline', 'Adam', 'Adams', 'Adara', 'Addie', 'Addie', 'Addis', 'Adel', 'Adela', 'Adelaide', 'Adele', 'Adelice', 'Adelina', 'Adelind', 'Adeline', 'Adella', 'Adelle']\n"
     ]
    }
   ],
   "source": [
    "# Create lists of names\n",
    "female_names = names.words('female.txt')\n",
    "male_names = names.words('male.txt')\n",
    "all_names = sorted(female_names + male_names)\n",
    "\n",
    "# Display 50 names of male and female\n",
    "print(all_names[0:50])"
   ]
  },
  {
   "cell_type": "code",
   "execution_count": 4,
   "metadata": {
    "collapsed": false
   },
   "outputs": [
    {
     "name": "stdout",
     "output_type": "stream",
     "text": [
      "{'male': 29, 'total': 1802, 'female': 1773, 'letter': 'a'}\n"
     ]
    }
   ],
   "source": [
    "# Create a function that gives the raw numbers for names ending with a given letter\n",
    "def names_ending_with(letter):\n",
    "    female_name_count = len([n.lower() for n in female_names if n.lower().endswith(letter)])\n",
    "    male_name_count = len([n.lower() for n in male_names if n.lower().endswith(letter)])\n",
    "    total_name_count = len([n.lower() for n in all_names if n.lower().endswith(letter)])\n",
    "\n",
    "    return {\"letter\":letter, \"female\":female_name_count, \"male\":male_name_count, \"total\": total_name_count}\n",
    "\n",
    "# Test the function for names ending with 'a'\n",
    "print(names_ending_with('a'))"
   ]
  },
  {
   "cell_type": "code",
   "execution_count": 5,
   "metadata": {
    "collapsed": false
   },
   "outputs": [
    {
     "name": "stdout",
     "output_type": "stream",
     "text": [
      "[{'male': 29, 'total': 1802, 'female': 1773, 'letter': 'a'}, {'male': 21, 'total': 30, 'female': 9, 'letter': 'b'}, {'male': 25, 'total': 25, 'female': 0, 'letter': 'c'}, {'male': 228, 'total': 267, 'female': 39, 'letter': 'd'}, {'male': 468, 'total': 1900, 'female': 1432, 'letter': 'e'}, {'male': 25, 'total': 27, 'female': 2, 'letter': 'f'}, {'male': 32, 'total': 42, 'female': 10, 'letter': 'g'}, {'male': 93, 'total': 198, 'female': 105, 'letter': 'h'}, {'male': 50, 'total': 367, 'female': 317, 'letter': 'i'}, {'male': 3, 'total': 4, 'female': 1, 'letter': 'j'}, {'male': 69, 'total': 72, 'female': 3, 'letter': 'k'}, {'male': 187, 'total': 366, 'female': 179, 'letter': 'l'}, {'male': 70, 'total': 83, 'female': 13, 'letter': 'm'}, {'male': 478, 'total': 864, 'female': 386, 'letter': 'n'}, {'male': 165, 'total': 198, 'female': 33, 'letter': 'o'}, {'male': 18, 'total': 20, 'female': 2, 'letter': 'p'}, {'male': 0, 'total': 0, 'female': 0, 'letter': 'q'}, {'male': 190, 'total': 237, 'female': 47, 'letter': 'r'}, {'male': 230, 'total': 323, 'female': 93, 'letter': 's'}, {'male': 164, 'total': 232, 'female': 68, 'letter': 't'}, {'male': 12, 'total': 18, 'female': 6, 'letter': 'u'}, {'male': 16, 'total': 18, 'female': 2, 'letter': 'v'}, {'male': 17, 'total': 22, 'female': 5, 'letter': 'w'}, {'male': 10, 'total': 20, 'female': 10, 'letter': 'x'}, {'male': 332, 'total': 793, 'female': 461, 'letter': 'y'}, {'male': 11, 'total': 15, 'female': 4, 'letter': 'z'}]\n",
      "26\n"
     ]
    }
   ],
   "source": [
    "# Import string\n",
    "import string\n",
    "\n",
    "# Create a list containing raw numbers for every letter of the alphabet\n",
    "names_ending_with_list = []\n",
    "for letter in string.ascii_lowercase:\n",
    "    names_ending_with_list.append(names_ending_with(letter))\n",
    "\n",
    "# Examine the results\n",
    "print(names_ending_with_list)\n",
    "print(len(names_ending_with_list))"
   ]
  },
  {
   "cell_type": "code",
   "execution_count": 6,
   "metadata": {
    "collapsed": false
   },
   "outputs": [],
   "source": [
    "# Add percentages into the results\n",
    "\n",
    "# Import Decimal and getcontext from decimal\n",
    "from decimal import Decimal\n",
    "from decimal import getcontext \n",
    "\n",
    "# Set the precision for percentage calculations\n",
    "getcontext().prec =5\n",
    "\n",
    "# For loop to calculate percentage of male, female\n",
    "for item in names_ending_with_list:\n",
    "    female_count = Decimal(item[\"female\"])\n",
    "    male_count = Decimal(item[\"male\"])\n",
    "    total_count = Decimal(item[\"total\"])\n",
    "    if total_count == 0:\n",
    "        female_percentage = Decimal(0)\n",
    "        male_percentage = Decimal(0)\n",
    "    else:\n",
    "        female_percentage = Decimal(100) * female_count / total_count\n",
    "        male_percentage = Decimal(100) * male_count / total_count\n",
    "    item['female_percent'] = female_percentage.quantize(Decimal('0.01'))\n",
    "    item['male_percent'] = male_percentage.quantize(Decimal('0.01'))"
   ]
  },
  {
   "cell_type": "markdown",
   "metadata": {},
   "source": [
    "**Answer**"
   ]
  },
  {
   "cell_type": "code",
   "execution_count": 7,
   "metadata": {
    "collapsed": false
   },
   "outputs": [
    {
     "name": "stdout",
     "output_type": "stream",
     "text": [
      "\n",
      "Percentage of names(male and female) ending with particular letters are:\n",
      "========================================================================================================================\n",
      "[a] male 1.61%, female 98.39%\n",
      "[b] male 70.00%, female 30.00%\n",
      "[c] male 100.00%, female 0.00%\n",
      "[d] male 85.39%, female 14.61%\n",
      "[e] male 24.63%, female 75.37%\n",
      "[f] male 92.59%, female 7.41%\n",
      "[g] male 76.19%, female 23.81%\n",
      "[h] male 46.97%, female 53.03%\n",
      "[i] male 13.62%, female 86.38%\n",
      "[j] male 75.00%, female 25.00%\n",
      "[k] male 95.83%, female 4.17%\n",
      "[l] male 51.09%, female 48.91%\n",
      "[m] male 84.34%, female 15.66%\n",
      "[n] male 55.32%, female 44.68%\n",
      "[o] male 83.33%, female 16.67%\n",
      "[p] male 90.00%, female 10.00%\n",
      "[q] male 0.00%, female 0.00%\n",
      "[r] male 80.17%, female 19.83%\n",
      "[s] male 71.21%, female 28.79%\n",
      "[t] male 70.69%, female 29.31%\n",
      "[u] male 66.67%, female 33.33%\n",
      "[v] male 88.89%, female 11.11%\n",
      "[w] male 77.27%, female 22.73%\n",
      "[x] male 50.00%, female 50.00%\n",
      "[y] male 41.87%, female 58.13%\n",
      "[z] male 73.33%, female 26.67%\n"
     ]
    }
   ],
   "source": [
    "# Display the output with percentage of male and female \n",
    "print(\"\\nPercentage of names(male and female) ending with particular letters are:\")\n",
    "print(\"========================================================================================================================\")\n",
    "for item in names_ending_with_list:\n",
    "    print(\"[\" + item[\"letter\"] + \"] male \" + str(item[\"male_percent\"]) + \"%, female \" + str(item[\"female_percent\"]) + \"%\")"
   ]
  },
  {
   "cell_type": "code",
   "execution_count": null,
   "metadata": {
    "collapsed": true
   },
   "outputs": [],
   "source": []
  }
 ],
 "metadata": {
  "anaconda-cloud": {},
  "kernelspec": {
   "display_name": "Python [conda root]",
   "language": "python",
   "name": "conda-root-py"
  },
  "language_info": {
   "codemirror_mode": {
    "name": "ipython",
    "version": 3
   },
   "file_extension": ".py",
   "mimetype": "text/x-python",
   "name": "python",
   "nbconvert_exporter": "python",
   "pygments_lexer": "ipython3",
   "version": "3.5.2"
  }
 },
 "nbformat": 4,
 "nbformat_minor": 1
}
