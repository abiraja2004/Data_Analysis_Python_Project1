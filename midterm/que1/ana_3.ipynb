{
 "cells": [
  {
   "cell_type": "markdown",
   "metadata": {},
   "source": [
    "################################################################################################################################\n",
    "#                     Mid Term: Author-Vaishali Lambe, NUID-001286444                         #\n",
    "################################################################################################################################\n",
    "\n",
    "# Question 1:\n",
    "\n",
    "**Analysis 3**\n",
    "#### Who emailed who the most?\n",
    "\n",
    "################################################################################################################################"
   ]
  },
  {
   "cell_type": "code",
   "execution_count": 1,
   "metadata": {
    "collapsed": false
   },
   "outputs": [
    {
     "name": "stdout",
     "output_type": "stream",
     "text": [
      "C:\\Users\\Admin/midterm/data/enron/maildir\n",
      "C:\\Users\\Admin/midterm/data/enron/preprocessed_analysis3.json\n",
      "Preprocessed data? True\n",
      "[nltk_data] Downloading package stopwords to\n",
      "[nltk_data]     C:\\Users\\Admin\\AppData\\Roaming\\nltk_data...\n",
      "[nltk_data]   Package stopwords is already up-to-date!\n"
     ]
    },
    {
     "data": {
      "text/plain": [
       "True"
      ]
     },
     "execution_count": 1,
     "metadata": {},
     "output_type": "execute_result"
    }
   ],
   "source": [
    "# Import the modules we need.\n",
    "from bs4 import BeautifulSoup\n",
    "from bs4 import SoupStrainer\n",
    "import datetime\n",
    "from glob import glob\n",
    "import json\n",
    "import nltk\n",
    "from nltk import FreqDist\n",
    "from nltk.corpus import gutenberg\n",
    "from nltk.corpus import stopwords\n",
    "import os\n",
    "import re\n",
    "import requests\n",
    "import string\n",
    "import sys\n",
    "from timeit import default_timer as timer\n",
    "\n",
    "# Path to the raw data.\n",
    "raw_data_path = os.path.expanduser(\"~/midterm/data/enron/maildir\")\n",
    "print(raw_data_path)\n",
    "\n",
    "# Path to the preprocessed data file (may or may not exist).\n",
    "preprocessed_data_path = os.path.expanduser(\"~/midterm/data/enron/preprocessed_analysis3.json\")\n",
    "print(preprocessed_data_path)\n",
    "\n",
    "# Check to see if the file is already there.\n",
    "def have_preprocessed_data():\n",
    "    return os.path.isfile(preprocessed_data_path)\n",
    "\n",
    "print(\"Preprocessed data? \" + str(have_preprocessed_data()))\n",
    "    \n",
    "# Make sure the stopwords corpus is available.\n",
    "nltk.download('stopwords')"
   ]
  },
  {
   "cell_type": "code",
   "execution_count": 2,
   "metadata": {
    "collapsed": false
   },
   "outputs": [],
   "source": [
    "# Get the home directories in the Enron mail dump.\n",
    "def get_enron_home_dirs():\n",
    "    \n",
    "    # Save the working directory (for later restoration).\n",
    "    saved_path = os.getcwd()\n",
    "    print(saved_path)\n",
    "\n",
    "    # Get the paths to the data files.\n",
    "    # Use the contents of the directory as a way to get the usernames.\n",
    "    os.chdir(raw_data_path)\n",
    "    result = glob('*')\n",
    "\n",
    "    # Restore the working directory.\n",
    "    os.chdir(saved_path)\n",
    "    print(os.getcwd())\n",
    "\n",
    "    print(\"found \" + str(len(result)) + \" home directories:\")\n",
    "    print(result[0:50])\n",
    "\n",
    "    return result\n",
    "\n",
    "# Find the recipients for a given piece of email.\n",
    "def find_recipients(filepath):\n",
    "    if not os.path.isfile(filepath):\n",
    "        return []\n",
    "    \n",
    "    with open(os.path.join(raw_data_path, filepath), mode=\"rt\", encoding=\"ISO-8859-1\") as f:\n",
    "        # There's a blank line between the headers and the body of the email.\n",
    "        # Start in the headers.\n",
    "        for line in f:\n",
    "            trimmed = line.strip().lower()\n",
    "            if trimmed == '':\n",
    "                # Now we are in the body of the email.\n",
    "                break\n",
    "            \n",
    "            # We've got a header line: check to see if it's the X-To: line.\n",
    "            if trimmed.startswith('x-to:'):\n",
    "                x_to_list = trimmed.replace('x-to:','',1).split(',')\n",
    "                trimmed_list = list(map(lambda x : x.strip(), x_to_list))\n",
    "                # print(\"Found recipients: \" + str(trimmed_list))\n",
    "                return trimmed_list\n",
    "\n",
    "    return []"
   ]
  },
  {
   "cell_type": "code",
   "execution_count": 3,
   "metadata": {
    "collapsed": true
   },
   "outputs": [],
   "source": [
    "# Find the people that this person emailed the most.\n",
    "def find_email_buddies(u, verbose=False):\n",
    "    if verbose:\n",
    "        print(\"finding email buddies for: \" + u)\n",
    "    \n",
    "    home_path = os.path.join(raw_data_path, u)\n",
    "    if verbose:\n",
    "        print(home_path)\n",
    "    \n",
    "    # Save the current working directory.\n",
    "    saved_wd = os.getcwd()\n",
    "    \n",
    "    os.chdir(home_path)\n",
    "    sent_items_list = glob(\"sent/*\")\n",
    "    sent_items_list.extend(glob(\"sent_items/*\"))\n",
    "    \n",
    "    # Restore the current working directory.\n",
    "    os.chdir(saved_wd)\n",
    "\n",
    "    if verbose:\n",
    "        print(sent_items_list[0:10])\n",
    "    \n",
    "    # Process each document.\n",
    "    result = []\n",
    "    count = len(sent_items_list)\n",
    "    if verbose:\n",
    "        print(\"{name} sent {count} pieces of email\".format(name=u, count=count))\n",
    "    for f in sent_items_list:\n",
    "        item_recipients = find_recipients(os.path.join(home_path, f))\n",
    "        result.extend(item_recipients)\n",
    "    \n",
    "    recipient_count = len(result)\n",
    "    if verbose:\n",
    "        print(\"{name} sent email to {count} recipients\".format(name=u, count=recipient_count))\n",
    "\n",
    "    recipient_set = set(result)\n",
    "    unique_recipient_count = len(recipient_set)\n",
    "    if verbose:\n",
    "        print(\"{name} sent email to {count} unique recipients\".format(name=u, count=unique_recipient_count))\n",
    "\n",
    "    summary = {'name':u, 'sent-mail':count, 'recipients':recipient_count, 'unique-recipients':unique_recipient_count}\n",
    "    \n",
    "    # It's useful to always print this one as a progress check.\n",
    "    print(summary)\n",
    "    \n",
    "    return summary"
   ]
  },
  {
   "cell_type": "code",
   "execution_count": 4,
   "metadata": {
    "collapsed": true
   },
   "outputs": [],
   "source": [
    "# Create the email recipient list.\n",
    "def create_email_recipient_list():\n",
    "    result = []\n",
    "    enron_home_dirs = get_enron_home_dirs()\n",
    "    for u in enron_home_dirs:\n",
    "        summary = find_email_buddies(u)\n",
    "        result.append(summary)\n",
    "    \n",
    "    return result\n",
    "\n",
    "# Restore from a preprocessed file.\n",
    "def restore_email_recipient_list():\n",
    "    print(\"Restoring from: \" + preprocessed_data_path)\n",
    "\n",
    "    result = []\n",
    "    with open(preprocessed_data_path, 'rt') as f:\n",
    "        try:\n",
    "            result = json.load(f)\n",
    "        except ValueError:\n",
    "            result = []\n",
    "    \n",
    "    return result\n",
    "\n",
    "# Save data as a preprocessed file.\n",
    "def save_email_recipient_list(list_to_save):\n",
    "    print(\"Saving email recipient list to: \" + preprocessed_data_path)\n",
    "    with open(preprocessed_data_path, 'wt') as f:\n",
    "        json.dump(list_to_save, f)"
   ]
  },
  {
   "cell_type": "code",
   "execution_count": 5,
   "metadata": {
    "collapsed": false
   },
   "outputs": [
    {
     "name": "stdout",
     "output_type": "stream",
     "text": [
      "Restoring from: C:\\Users\\Admin/midterm/data/enron/preprocessed_analysis3.json\n",
      "[{'sent-mail': 10732, 'recipients': 68764, 'unique-recipients': 1897, 'name': 'dasovich-j'}, {'sent-mail': 10318, 'recipients': 12898, 'unique-recipients': 1581, 'name': 'kaminski-v'}, {'sent-mail': 9412, 'recipients': 13758, 'unique-recipients': 747, 'name': 'mann-k'}, {'sent-mail': 8814, 'recipients': 13452, 'unique-recipients': 1056, 'name': 'shackleton-s'}, {'sent-mail': 8246, 'recipients': 28354, 'unique-recipients': 1167, 'name': 'jones-t'}, {'sent-mail': 6938, 'recipients': 16940, 'unique-recipients': 899, 'name': 'germany-c'}, {'sent-mail': 5518, 'recipients': 7506, 'unique-recipients': 458, 'name': 'lenhart-m'}, {'sent-mail': 4818, 'recipients': 7980, 'unique-recipients': 924, 'name': 'taylor-m'}, {'sent-mail': 4704, 'recipients': 6648, 'unique-recipients': 806, 'name': 'perlingiere-d'}, {'sent-mail': 4350, 'recipients': 6490, 'unique-recipients': 844, 'name': 'nemec-g'}, {'sent-mail': 4070, 'recipients': 6210, 'unique-recipients': 908, 'name': 'sanders-r'}, {'sent-mail': 3546, 'recipients': 7134, 'unique-recipients': 1012, 'name': 'kean-s'}, {'sent-mail': 3242, 'recipients': 6972, 'unique-recipients': 321, 'name': 'bass-e'}, {'sent-mail': 3222, 'recipients': 6380, 'unique-recipients': 1177, 'name': 'scott-s'}, {'sent-mail': 3162, 'recipients': 11162, 'unique-recipients': 2056, 'name': 'beck-s'}, {'sent-mail': 3078, 'recipients': 4468, 'unique-recipients': 544, 'name': 'arnold-j'}, {'sent-mail': 2970, 'recipients': 8562, 'unique-recipients': 691, 'name': 'love-p'}, {'sent-mail': 2952, 'recipients': 4338, 'unique-recipients': 538, 'name': 'sager-e'}, {'sent-mail': 2758, 'recipients': 11072, 'unique-recipients': 649, 'name': 'steffes-j'}, {'sent-mail': 2656, 'recipients': 3428, 'unique-recipients': 364, 'name': 'stclair-c'}]\n"
     ]
    }
   ],
   "source": [
    "# Does the preprocessed file exist?\n",
    "recipient_info = []\n",
    "if have_preprocessed_data():\n",
    "    recipient_info = restore_email_recipient_list()\n",
    "else:\n",
    "    recipient_info = create_email_recipient_list()\n",
    "    save_email_recipient_list(recipient_info)\n",
    "\n",
    "# Sort by the number of emails sent.\n",
    "recipient_info.sort(key= lambda x : x['sent-mail'], reverse=True)\n",
    "\n",
    "# Show the top 20 most profilic emailers.\n",
    "print(recipient_info[0:20])"
   ]
  },
  {
   "cell_type": "code",
   "execution_count": null,
   "metadata": {
    "collapsed": true
   },
   "outputs": [],
   "source": []
  }
 ],
 "metadata": {
  "anaconda-cloud": {},
  "kernelspec": {
   "display_name": "Python [conda root]",
   "language": "python",
   "name": "conda-root-py"
  },
  "language_info": {
   "codemirror_mode": {
    "name": "ipython",
    "version": 3
   },
   "file_extension": ".py",
   "mimetype": "text/x-python",
   "name": "python",
   "nbconvert_exporter": "python",
   "pygments_lexer": "ipython3",
   "version": "3.5.2"
  }
 },
 "nbformat": 4,
 "nbformat_minor": 1
}
