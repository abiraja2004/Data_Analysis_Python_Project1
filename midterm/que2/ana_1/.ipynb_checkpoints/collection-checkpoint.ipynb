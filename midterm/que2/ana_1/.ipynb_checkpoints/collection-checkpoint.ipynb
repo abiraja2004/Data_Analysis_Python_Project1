{
 "cells": [
  {
   "cell_type": "markdown",
   "metadata": {},
   "source": [
    "# Question 2\n",
    "\n",
    "#### Collection of data from the NYT API\n",
    "\n",
    "From the Books API we will try to answer the question: which category of books has the bestseller that was on the list for the greatest number of weeks?\n",
    "\n",
    "* Get the list of categories\n",
    "* Get the list of bestsellers for each category"
   ]
  },
  {
   "cell_type": "code",
   "execution_count": null,
   "metadata": {
    "collapsed": false
   },
   "outputs": [],
   "source": [
    "# Import the modules we need.\n",
    "from bs4 import BeautifulSoup\n",
    "from bs4 import SoupStrainer\n",
    "import datetime\n",
    "from glob import glob\n",
    "import json\n",
    "import os\n",
    "import re\n",
    "import requests\n",
    "import string\n",
    "import sys\n",
    "\n",
    "\n",
    "# Path to the data directory into which downloaded JSON is saved.\n",
    "data_path = os.path.join(\"..\", \"..\", \"data\")\n",
    "print(data_path)\n",
    "\n",
    "if os.path.isdir(data_path):\n",
    "    print(data_path + \" is a directory\")\n",
    "else:\n",
    "    print(data_path + \" is NOT a directory - something is wrong :(\")\n",
    "\n",
    "\n",
    "# NYT API Key needs to be set in the environment before running this notebook.\n",
    "#     $ export nyt_archive_key=\"abcd1234\"\n",
    "nyt_archive_key = os.getenv('nyt_archive_key')\n",
    "print(nyt_archive_key)\n",
    "\n",
    "if (nyt_archive_key is None) or (nyt_archive_key == ''):\n",
    "    print(\"NYT API key is missing\")"
   ]
  },
  {
   "cell_type": "code",
   "execution_count": null,
   "metadata": {
    "collapsed": true
   },
   "outputs": [],
   "source": [
    "# General-purpose utility function for saving an object as JSON to the data directory.\n",
    "def save_to_json(obj, save_file_path):\n",
    "    print(\"saving to file: \" + save_file_path)\n",
    "\n",
    "    with open(save_file_path, \"wt\") as f:\n",
    "        json.dump(obj, f)\n",
    "        \n",
    "# General function for getting JSON, either by downloading or from a cache file.\n",
    "def resolve_nyt_json(url, cache_file, request_params={}):\n",
    "    if os.path.isfile(cache_file):\n",
    "        # Cache file exists, so use that.\n",
    "        result = {}\n",
    "        with open(cache_file, 'rt') as f:\n",
    "            try:\n",
    "                result = json.load(f)\n",
    "            except ValueError:\n",
    "                result = {}\n",
    "                \n",
    "        print(\"resolve_nyt_json(): returning value from cache file: \" + cache_file)\n",
    "        return result\n",
    "\n",
    "    # It's not in the cache, so download and save it.\n",
    "    print(\"resolve_nyt_json(): downloading from NYT API\")\n",
    "\n",
    "    response = requests.get(url, params=request_params)\n",
    "    print(response.status_code)\n",
    "    \n",
    "    if 200 == response.status_code:\n",
    "        save_to_json(response.json(), cache_file)\n",
    "    else:\n",
    "        print(\"resolve_nyt_json(): error downloading from NYT API ({code})\".format(code=response.status_code))\n",
    "        return {}\n",
    "        \n",
    "    return response.json()"
   ]
  },
  {
   "cell_type": "code",
   "execution_count": null,
   "metadata": {
    "collapsed": false
   },
   "outputs": [],
   "source": [
    "# URL for calls to books/v3/lists/names.\n",
    "def get_books_list_names_url():\n",
    "    return \"https://api.nytimes.com/svc/books/v3/lists/names.json\"\n",
    "\n",
    "# Name of the cache file for calls to books/v3/lists/names.\n",
    "def get_books_list_names_cache_file_path():\n",
    "    return os.path.join(data_path, \"books_v3_lists_names.json\")\n",
    "\n",
    "# Name of the cache file for calls to books/v3/lists/names.\n",
    "def get_books_list_names_params():\n",
    "    return {'api-key':nyt_archive_key}\n",
    "\n",
    "# Convenience routine for getting the names of the bestseller lists.\n",
    "def resolve_books_list_names():\n",
    "    return resolve_nyt_json(get_books_list_names_url(), \n",
    "                            get_books_list_names_cache_file_path(), \n",
    "                            get_books_list_names_params())"
   ]
  },
  {
   "cell_type": "code",
   "execution_count": null,
   "metadata": {
    "collapsed": false
   },
   "outputs": [],
   "source": [
    "list_names_json = resolve_books_list_names()\n",
    "# print(list_names_json['results'])\n",
    "\n",
    "# Only weekly lists have a 'weeks on list' value.\n",
    "weekly_list_names = list([w['list_name_encoded'] for w in list_names_json['results'] if w['updated'] == 'WEEKLY'])\n",
    "print(\"Weekly bestseller lists ({count}):\".format(count=len(weekly_list_names)))\n",
    "print(weekly_list_names)\n",
    "\n",
    "monthly_list_names = list([w['list_name_encoded'] for w in list_names_json['results'] if w['updated'] == 'MONTHLY'])\n",
    "print(\"Monthly bestseller lists ({count}):\".format(count=len(monthly_list_names)))\n",
    "print(monthly_list_names)"
   ]
  },
  {
   "cell_type": "code",
   "execution_count": null,
   "metadata": {
    "collapsed": false
   },
   "outputs": [],
   "source": [
    "# URL for calls to books/v3/lists.\n",
    "def get_books_list_url():\n",
    "    return \"https://api.nytimes.com/svc/books/v3/lists.json\"\n",
    "\n",
    "# Name of the cache file for calls to books/v3/lists.\n",
    "def get_books_list_cache_file_path(list_name):\n",
    "    filename = \"books_v3_lists_{list_name}.json\".format(list_name=list_name)\n",
    "    print(filename)\n",
    "    return os.path.join(data_path, filename)\n",
    "\n",
    "# Name of the cache file for calls to books/v3/lists.\n",
    "def get_books_list_params(list_name):\n",
    "    return {'api-key':nyt_archive_key, \n",
    "            'list':list_name,\n",
    "            'sort-order':'ASC'}\n",
    "\n",
    "# Convenience routine for getting a bestseller list.\n",
    "def resolve_books_list(list_name):\n",
    "    return resolve_nyt_json(get_books_list_url(), \n",
    "                            get_books_list_cache_file_path(list_name), \n",
    "                            get_books_list_params(list_name))"
   ]
  },
  {
   "cell_type": "code",
   "execution_count": null,
   "metadata": {
    "collapsed": false
   },
   "outputs": [],
   "source": [
    "# TODO: this analysis should be moved into a separate notebook!\n",
    "# Get the data for each bestseller list.\n",
    "longest_on_list = []\n",
    "for weekly_list in weekly_list_names:\n",
    "    print(weekly_list)\n",
    "    response = resolve_books_list(weekly_list)\n",
    "    books_list = response['results']\n",
    "    for b in books_list[0:1]:\n",
    "        if b['weeks_on_list'] != 0:\n",
    "            print(\"{title} ({rank}) spent {n} weeks on the list\".format(\n",
    "                    title=b['book_details'][0]['title'],\n",
    "                    rank=b['rank'],\n",
    "                    n=b['weeks_on_list']))\n",
    "        \n",
    "    books_list.sort(key=lambda x : x['weeks_on_list'],reverse=True)\n",
    "    for b in books_list[0:1]:\n",
    "        if b['weeks_on_list'] != 0:\n",
    "            title = b['book_details'][0]['title']\n",
    "            print(\"{title} ({rank}) spent {n} weeks on the list\".format(\n",
    "                    title=title,\n",
    "                    rank=b['rank'],\n",
    "                    n=b['weeks_on_list']))\n",
    "            longest_on_list.append({'list':weekly_list, \n",
    "                                    'title':title,\n",
    "                                    'rank':b['rank'], \n",
    "                                    'weeks_on_list':b['weeks_on_list']})\n",
    "\n",
    "longest_on_list.sort(key=lambda x : x['weeks_on_list'], reverse=True)\n",
    "for item in longest_on_list:\n",
    "    print(\"{title}, #{rank} from {list_name}, spent {weeks} weeks on the list\".format(\n",
    "            title=item['title'], \n",
    "            rank=item['rank'], \n",
    "            weeks=item['weeks_on_list'], \n",
    "            list_name=item['list']))\n",
    "    "
   ]
  },
  {
   "cell_type": "code",
   "execution_count": null,
   "metadata": {
    "collapsed": true
   },
   "outputs": [],
   "source": []
  }
 ],
 "metadata": {
  "anaconda-cloud": {},
  "kernelspec": {
   "display_name": "Python [conda root]",
   "language": "python",
   "name": "conda-root-py"
  },
  "language_info": {
   "codemirror_mode": {
    "name": "ipython",
    "version": 3
   },
   "file_extension": ".py",
   "mimetype": "text/x-python",
   "name": "python",
   "nbconvert_exporter": "python",
   "pygments_lexer": "ipython3",
   "version": "3.5.2"
  }
 },
 "nbformat": 4,
 "nbformat_minor": 1
}
